{
 "cells": [
  {
   "cell_type": "code",
   "execution_count": 2,
   "metadata": {},
   "outputs": [],
   "source": [
    "import numpy as np\n",
    "import pandas as pd\n",
    "from obspy import read\n",
    "from datetime import datetime, timedelta\n",
    "import matplotlib.pyplot as plt\n",
    "import os"
   ]
  },
  {
   "cell_type": "markdown",
   "metadata": {},
   "source": [
    "# Explore Data"
   ]
  },
  {
   "cell_type": "code",
   "execution_count": 4,
   "metadata": {},
   "outputs": [
    {
     "data": {
      "text/html": [
       "<div>\n",
       "<style scoped>\n",
       "    .dataframe tbody tr th:only-of-type {\n",
       "        vertical-align: middle;\n",
       "    }\n",
       "\n",
       "    .dataframe tbody tr th {\n",
       "        vertical-align: top;\n",
       "    }\n",
       "\n",
       "    .dataframe thead th {\n",
       "        text-align: right;\n",
       "    }\n",
       "</style>\n",
       "<table border=\"1\" class=\"dataframe\">\n",
       "  <thead>\n",
       "    <tr style=\"text-align: right;\">\n",
       "      <th></th>\n",
       "      <th>filename</th>\n",
       "      <th>time_abs(%Y-%m-%dT%H:%M:%S.%f)</th>\n",
       "      <th>time_rel(sec)</th>\n",
       "      <th>evid</th>\n",
       "      <th>mq_type</th>\n",
       "    </tr>\n",
       "  </thead>\n",
       "  <tbody>\n",
       "    <tr>\n",
       "      <th>0</th>\n",
       "      <td>xa.s12.00.mhz.1970-01-19HR00_evid00002</td>\n",
       "      <td>1970-01-19T20:25:00.000000</td>\n",
       "      <td>73500.0</td>\n",
       "      <td>evid00002</td>\n",
       "      <td>impact_mq</td>\n",
       "    </tr>\n",
       "    <tr>\n",
       "      <th>1</th>\n",
       "      <td>xa.s12.00.mhz.1970-03-25HR00_evid00003</td>\n",
       "      <td>1970-03-25T03:32:00.000000</td>\n",
       "      <td>12720.0</td>\n",
       "      <td>evid00003</td>\n",
       "      <td>impact_mq</td>\n",
       "    </tr>\n",
       "    <tr>\n",
       "      <th>2</th>\n",
       "      <td>xa.s12.00.mhz.1970-03-26HR00_evid00004</td>\n",
       "      <td>1970-03-26T20:17:00.000000</td>\n",
       "      <td>73020.0</td>\n",
       "      <td>evid00004</td>\n",
       "      <td>impact_mq</td>\n",
       "    </tr>\n",
       "    <tr>\n",
       "      <th>3</th>\n",
       "      <td>xa.s12.00.mhz.1970-04-25HR00_evid00006</td>\n",
       "      <td>1970-04-25T01:14:00.000000</td>\n",
       "      <td>4440.0</td>\n",
       "      <td>evid00006</td>\n",
       "      <td>impact_mq</td>\n",
       "    </tr>\n",
       "    <tr>\n",
       "      <th>4</th>\n",
       "      <td>xa.s12.00.mhz.1970-04-26HR00_evid00007</td>\n",
       "      <td>1970-04-26T14:29:00.000000</td>\n",
       "      <td>52140.0</td>\n",
       "      <td>evid00007</td>\n",
       "      <td>deep_mq</td>\n",
       "    </tr>\n",
       "    <tr>\n",
       "      <th>...</th>\n",
       "      <td>...</td>\n",
       "      <td>...</td>\n",
       "      <td>...</td>\n",
       "      <td>...</td>\n",
       "      <td>...</td>\n",
       "    </tr>\n",
       "    <tr>\n",
       "      <th>71</th>\n",
       "      <td>xa.s12.00.mhz.1974-10-14HR00_evid00156</td>\n",
       "      <td>1974-10-14T17:43:00.000000</td>\n",
       "      <td>63780.0</td>\n",
       "      <td>evid00156</td>\n",
       "      <td>impact_mq</td>\n",
       "    </tr>\n",
       "    <tr>\n",
       "      <th>72</th>\n",
       "      <td>xa.s12.00.mhz.1975-04-12HR00_evid00191</td>\n",
       "      <td>1975-04-12T18:15:00.000000</td>\n",
       "      <td>65700.0</td>\n",
       "      <td>evid00191</td>\n",
       "      <td>impact_mq</td>\n",
       "    </tr>\n",
       "    <tr>\n",
       "      <th>73</th>\n",
       "      <td>xa.s12.00.mhz.1975-05-04HR00_evid00192</td>\n",
       "      <td>1975-05-04T10:05:00.000000</td>\n",
       "      <td>36300.0</td>\n",
       "      <td>evid00192</td>\n",
       "      <td>impact_mq</td>\n",
       "    </tr>\n",
       "    <tr>\n",
       "      <th>74</th>\n",
       "      <td>xa.s12.00.mhz.1975-06-24HR00_evid00196</td>\n",
       "      <td>1975-06-24T16:03:00.000000</td>\n",
       "      <td>57780.0</td>\n",
       "      <td>evid00196</td>\n",
       "      <td>impact_mq</td>\n",
       "    </tr>\n",
       "    <tr>\n",
       "      <th>75</th>\n",
       "      <td>xa.s12.00.mhz.1975-06-26HR00_evid00198</td>\n",
       "      <td>1975-06-26T03:24:00.000000</td>\n",
       "      <td>12240.0</td>\n",
       "      <td>evid00198</td>\n",
       "      <td>impact_mq</td>\n",
       "    </tr>\n",
       "  </tbody>\n",
       "</table>\n",
       "<p>76 rows × 5 columns</p>\n",
       "</div>"
      ],
      "text/plain": [
       "                                  filename time_abs(%Y-%m-%dT%H:%M:%S.%f)  \\\n",
       "0   xa.s12.00.mhz.1970-01-19HR00_evid00002     1970-01-19T20:25:00.000000   \n",
       "1   xa.s12.00.mhz.1970-03-25HR00_evid00003     1970-03-25T03:32:00.000000   \n",
       "2   xa.s12.00.mhz.1970-03-26HR00_evid00004     1970-03-26T20:17:00.000000   \n",
       "3   xa.s12.00.mhz.1970-04-25HR00_evid00006     1970-04-25T01:14:00.000000   \n",
       "4   xa.s12.00.mhz.1970-04-26HR00_evid00007     1970-04-26T14:29:00.000000   \n",
       "..                                     ...                            ...   \n",
       "71  xa.s12.00.mhz.1974-10-14HR00_evid00156     1974-10-14T17:43:00.000000   \n",
       "72  xa.s12.00.mhz.1975-04-12HR00_evid00191     1975-04-12T18:15:00.000000   \n",
       "73  xa.s12.00.mhz.1975-05-04HR00_evid00192     1975-05-04T10:05:00.000000   \n",
       "74  xa.s12.00.mhz.1975-06-24HR00_evid00196     1975-06-24T16:03:00.000000   \n",
       "75  xa.s12.00.mhz.1975-06-26HR00_evid00198     1975-06-26T03:24:00.000000   \n",
       "\n",
       "    time_rel(sec)       evid    mq_type  \n",
       "0         73500.0  evid00002  impact_mq  \n",
       "1         12720.0  evid00003  impact_mq  \n",
       "2         73020.0  evid00004  impact_mq  \n",
       "3          4440.0  evid00006  impact_mq  \n",
       "4         52140.0  evid00007    deep_mq  \n",
       "..            ...        ...        ...  \n",
       "71        63780.0  evid00156  impact_mq  \n",
       "72        65700.0  evid00191  impact_mq  \n",
       "73        36300.0  evid00192  impact_mq  \n",
       "74        57780.0  evid00196  impact_mq  \n",
       "75        12240.0  evid00198  impact_mq  \n",
       "\n",
       "[76 rows x 5 columns]"
      ]
     },
     "execution_count": 4,
     "metadata": {},
     "output_type": "execute_result"
    }
   ],
   "source": [
    "cat_directory = '../data/lunar/training/catalogs/'\n",
    "cat_file = cat_directory + 'apollo12_catalog_GradeA_final.csv'\n",
    "cat = pd.read_csv(cat_file)\n",
    "cat\n"
   ]
  },
  {
   "cell_type": "code",
   "execution_count": 7,
   "metadata": {},
   "outputs": [
    {
     "data": {
      "text/plain": [
       "datetime.datetime(1970, 3, 25, 3, 32)"
      ]
     },
     "execution_count": 7,
     "metadata": {},
     "output_type": "execute_result"
    }
   ],
   "source": [
    "row = cat.iloc[1]\n",
    "arrival_time = datetime.strptime(row['time_abs(%Y-%m-%dT%H:%M:%S.%f)'],'%Y-%m-%dT%H:%M:%S.%f')\n",
    "arrival_time"
   ]
  },
  {
   "cell_type": "code",
   "execution_count": 8,
   "metadata": {},
   "outputs": [
    {
     "data": {
      "text/plain": [
       "np.float64(12720.0)"
      ]
     },
     "execution_count": 8,
     "metadata": {},
     "output_type": "execute_result"
    }
   ],
   "source": [
    "arrival_time_rel = row['time_rel(sec)']\n",
    "arrival_time_rel"
   ]
  },
  {
   "cell_type": "code",
   "execution_count": 9,
   "metadata": {},
   "outputs": [
    {
     "data": {
      "text/plain": [
       "'xa.s12.00.mhz.1970-03-25HR00_evid00003'"
      ]
     },
     "execution_count": 9,
     "metadata": {},
     "output_type": "execute_result"
    }
   ],
   "source": [
    "test_filename = row.filename\n",
    "test_filename"
   ]
  },
  {
   "cell_type": "code",
   "execution_count": 15,
   "metadata": {},
   "outputs": [],
   "source": [
    "data_directory = '../data/lunar/training/data/S12_GradeA/'\n",
    "csv_file = f'{data_directory}{test_filename}.csv'\n",
    "mseed_file = f'{data_directory}{test_filename}.mseed'"
   ]
  },
  {
   "cell_type": "code",
   "execution_count": 16,
   "metadata": {},
   "outputs": [
    {
     "data": {
      "text/html": [
       "<div>\n",
       "<style scoped>\n",
       "    .dataframe tbody tr th:only-of-type {\n",
       "        vertical-align: middle;\n",
       "    }\n",
       "\n",
       "    .dataframe tbody tr th {\n",
       "        vertical-align: top;\n",
       "    }\n",
       "\n",
       "    .dataframe thead th {\n",
       "        text-align: right;\n",
       "    }\n",
       "</style>\n",
       "<table border=\"1\" class=\"dataframe\">\n",
       "  <thead>\n",
       "    <tr style=\"text-align: right;\">\n",
       "      <th></th>\n",
       "      <th>time_abs(%Y-%m-%dT%H:%M:%S.%f)</th>\n",
       "      <th>time_rel(sec)</th>\n",
       "      <th>velocity(m/s)</th>\n",
       "    </tr>\n",
       "  </thead>\n",
       "  <tbody>\n",
       "    <tr>\n",
       "      <th>0</th>\n",
       "      <td>1970-03-25T00:00:00.440000</td>\n",
       "      <td>0.000000</td>\n",
       "      <td>-5.481780e-15</td>\n",
       "    </tr>\n",
       "    <tr>\n",
       "      <th>1</th>\n",
       "      <td>1970-03-25T00:00:00.590943</td>\n",
       "      <td>0.150943</td>\n",
       "      <td>-6.878653e-15</td>\n",
       "    </tr>\n",
       "    <tr>\n",
       "      <th>2</th>\n",
       "      <td>1970-03-25T00:00:00.741887</td>\n",
       "      <td>0.301887</td>\n",
       "      <td>-7.486137e-15</td>\n",
       "    </tr>\n",
       "    <tr>\n",
       "      <th>3</th>\n",
       "      <td>1970-03-25T00:00:00.892830</td>\n",
       "      <td>0.452830</td>\n",
       "      <td>-7.191481e-15</td>\n",
       "    </tr>\n",
       "    <tr>\n",
       "      <th>4</th>\n",
       "      <td>1970-03-25T00:00:01.043774</td>\n",
       "      <td>0.603774</td>\n",
       "      <td>-6.287278e-15</td>\n",
       "    </tr>\n",
       "    <tr>\n",
       "      <th>...</th>\n",
       "      <td>...</td>\n",
       "      <td>...</td>\n",
       "      <td>...</td>\n",
       "    </tr>\n",
       "    <tr>\n",
       "      <th>572406</th>\n",
       "      <td>1970-03-26T00:00:01.345660</td>\n",
       "      <td>86400.905660</td>\n",
       "      <td>8.188906e-16</td>\n",
       "    </tr>\n",
       "    <tr>\n",
       "      <th>572407</th>\n",
       "      <td>1970-03-26T00:00:01.496604</td>\n",
       "      <td>86401.056604</td>\n",
       "      <td>-6.852630e-17</td>\n",
       "    </tr>\n",
       "    <tr>\n",
       "      <th>572408</th>\n",
       "      <td>1970-03-26T00:00:01.647547</td>\n",
       "      <td>86401.207547</td>\n",
       "      <td>-8.490759e-16</td>\n",
       "    </tr>\n",
       "    <tr>\n",
       "      <th>572409</th>\n",
       "      <td>1970-03-26T00:00:01.798491</td>\n",
       "      <td>86401.358491</td>\n",
       "      <td>-1.930016e-15</td>\n",
       "    </tr>\n",
       "    <tr>\n",
       "      <th>572410</th>\n",
       "      <td>1970-03-26T00:00:01.949434</td>\n",
       "      <td>86401.509434</td>\n",
       "      <td>-3.466622e-15</td>\n",
       "    </tr>\n",
       "  </tbody>\n",
       "</table>\n",
       "<p>572411 rows × 3 columns</p>\n",
       "</div>"
      ],
      "text/plain": [
       "       time_abs(%Y-%m-%dT%H:%M:%S.%f)  time_rel(sec)  velocity(m/s)\n",
       "0          1970-03-25T00:00:00.440000       0.000000  -5.481780e-15\n",
       "1          1970-03-25T00:00:00.590943       0.150943  -6.878653e-15\n",
       "2          1970-03-25T00:00:00.741887       0.301887  -7.486137e-15\n",
       "3          1970-03-25T00:00:00.892830       0.452830  -7.191481e-15\n",
       "4          1970-03-25T00:00:01.043774       0.603774  -6.287278e-15\n",
       "...                               ...            ...            ...\n",
       "572406     1970-03-26T00:00:01.345660   86400.905660   8.188906e-16\n",
       "572407     1970-03-26T00:00:01.496604   86401.056604  -6.852630e-17\n",
       "572408     1970-03-26T00:00:01.647547   86401.207547  -8.490759e-16\n",
       "572409     1970-03-26T00:00:01.798491   86401.358491  -1.930016e-15\n",
       "572410     1970-03-26T00:00:01.949434   86401.509434  -3.466622e-15\n",
       "\n",
       "[572411 rows x 3 columns]"
      ]
     },
     "execution_count": 16,
     "metadata": {},
     "output_type": "execute_result"
    }
   ],
   "source": [
    "st = read(mseed_file)\n",
    "data_cat = pd.read_csv(csv_file)\n",
    "data_cat\n"
   ]
  },
  {
   "cell_type": "code",
   "execution_count": 13,
   "metadata": {},
   "outputs": [
    {
     "data": {
      "text/plain": [
       "<matplotlib.legend.Legend at 0x20a142c38f0>"
      ]
     },
     "execution_count": 13,
     "metadata": {},
     "output_type": "execute_result"
    },
    {
     "data": {
      "image/png": "[encoded data removed]",
      "text/plain": [
       "<Figure size 1000x300 with 1 Axes>"
      ]
     },
     "metadata": {},
     "output_type": "display_data"
    }
   ],
   "source": [
    "# Read in time steps and velocities\n",
    "csv_times_dt = []\n",
    "for absval_str in data_cat['time_abs(%Y-%m-%dT%H:%M:%S.%f)'].values:\n",
    "    csv_times_dt.append(datetime.strptime(absval_str,'%Y-%m-%dT%H:%M:%S.%f'))\n",
    "\n",
    "csv_data = np.array(data_cat['velocity(m/s)'].tolist())\n",
    "\n",
    "# Plot the trace!\n",
    "fig,ax = plt.subplots(1,1,figsize=(10,3))\n",
    "ax.plot(csv_times_dt,csv_data)\n",
    "\n",
    "# Make the plot pretty\n",
    "ax.set_xlim((np.min(csv_times_dt),np.max(csv_times_dt)))\n",
    "ax.set_ylabel('Velocity (m/s)')\n",
    "ax.set_xlabel('Time (month-day hour)')\n",
    "ax.set_title(f'{test_filename}', fontweight='bold')\n",
    "\n",
    "# Plot where the arrival time is\n",
    "arrival_line = ax.axvline(x=arrival_time, c='red', label='Abs. Arrival')\n",
    "ax.legend(handles=[arrival_line])\n"
   ]
  },
  {
   "cell_type": "markdown",
   "metadata": {},
   "source": [
    "## Using miniseed"
   ]
  },
  {
   "cell_type": "code",
   "execution_count": 28,
   "metadata": {},
   "outputs": [
    {
     "data": {
      "text/plain": [
       "         network: XA\n",
       "         station: S12\n",
       "        location: 00\n",
       "         channel: MHZ\n",
       "       starttime: 1970-03-25T00:00:00.440000Z\n",
       "         endtime: 1970-03-26T00:00:01.949434Z\n",
       "   sampling_rate: 6.625\n",
       "           delta: 0.1509433962264151\n",
       "            npts: 572411\n",
       "           calib: 1.0\n",
       "         _format: MSEED\n",
       "           mseed: AttribDict({'dataquality': 'D', 'number_of_records': 1136, 'encoding': 'FLOAT64', 'byteorder': '>', 'record_length': 4096, 'filesize': 4653056})"
      ]
     },
     "execution_count": 28,
     "metadata": {},
     "output_type": "execute_result"
    }
   ],
   "source": [
    "st[0].stats"
   ]
  },
  {
   "cell_type": "code",
   "execution_count": 30,
   "metadata": {},
   "outputs": [
    {
     "data": {
      "text/plain": [
       "12719.56"
      ]
     },
     "execution_count": 30,
     "metadata": {},
     "output_type": "execute_result"
    }
   ],
   "source": [
    "tr = st.traces[0].copy()\n",
    "tr_times = tr.times()\n",
    "tr_data = tr.data\n",
    "starttime = tr.stats.starttime.datetime\n",
    "arrival = (arrival_time - starttime).total_seconds()\n",
    "arrival"
   ]
  },
  {
   "cell_type": "code",
   "execution_count": 34,
   "metadata": {},
   "outputs": [
    {
     "name": "stderr",
     "output_type": "stream",
     "text": [
      "d:\\Projects\\NASA SpaceApps\\.venv\\Lib\\site-packages\\obspy\\signal\\filter.py:62: UserWarning: Selected high corner frequency (5.0) of bandpass is at or above Nyquist (3.3125). Applying a high-pass instead.\n",
      "  warnings.warn(msg)\n"
     ]
    }
   ],
   "source": [
    "minfreq = 0.1\n",
    "maxfreq = 5.0\n",
    "# Going to create a separate trace for the filter data\n",
    "st_filt = st.copy()\n",
    "st_filt.filter('bandpass',freqmin=minfreq,freqmax=maxfreq)\n",
    "tr_filt = st_filt.traces[0].copy()\n",
    "tr_times_filt = tr_filt.times()\n",
    "tr_data_filt = tr_filt.data"
   ]
  },
  {
   "cell_type": "code",
   "execution_count": 35,
   "metadata": {},
   "outputs": [],
   "source": [
    "from scipy import signal\n",
    "from matplotlib import cm\n",
    "f, t, sxx = signal.spectrogram(tr_data_filt, tr_filt.stats.sampling_rate)"
   ]
  },
  {
   "cell_type": "code",
   "execution_count": 36,
   "metadata": {},
   "outputs": [
    {
     "data": {
      "image/png": "[encoded data removed]",
      "text/plain": [
       "<Figure size 1000x1000 with 3 Axes>"
      ]
     },
     "metadata": {},
     "output_type": "display_data"
    }
   ],
   "source": [
    "# Plot the time series and spectrogram\n",
    "fig = plt.figure(figsize=(10, 10))\n",
    "ax = plt.subplot(2, 1, 1)\n",
    "# Plot trace\n",
    "ax.plot(tr_times_filt,tr_data_filt)\n",
    "\n",
    "# Mark detection\n",
    "ax.axvline(x = arrival, color='red',label='Detection')\n",
    "ax.legend(loc='upper left')\n",
    "\n",
    "# Make the plot pretty\n",
    "ax.set_xlim([min(tr_times_filt),max(tr_times_filt)])\n",
    "ax.set_ylabel('Velocity (m/s)')\n",
    "ax.set_xlabel('Time (s)')\n",
    "\n",
    "ax2 = plt.subplot(2, 1, 2)\n",
    "vals = ax2.pcolormesh(t, f, sxx, cmap=cm.jet, vmax=5e-17)\n",
    "ax2.set_xlim([min(tr_times_filt),max(tr_times_filt)])\n",
    "ax2.set_xlabel(f'Time (Day Hour:Minute)', fontweight='bold')\n",
    "ax2.set_ylabel('Frequency (Hz)', fontweight='bold')\n",
    "ax2.axvline(x=arrival, c='red')\n",
    "cbar = plt.colorbar(vals, orientation='horizontal')\n",
    "cbar.set_label('Power ((m/s)^2/sqrt(Hz))', fontweight='bold')"
   ]
  },
  {
   "cell_type": "markdown",
   "metadata": {},
   "source": [
    "# Analyzing seismographic for Mars"
   ]
  },
  {
   "cell_type": "code",
   "execution_count": 37,
   "metadata": {},
   "outputs": [
    {
     "data": {
      "text/html": [
       "<div>\n",
       "<style scoped>\n",
       "    .dataframe tbody tr th:only-of-type {\n",
       "        vertical-align: middle;\n",
       "    }\n",
       "\n",
       "    .dataframe tbody tr th {\n",
       "        vertical-align: top;\n",
       "    }\n",
       "\n",
       "    .dataframe thead th {\n",
       "        text-align: right;\n",
       "    }\n",
       "</style>\n",
       "<table border=\"1\" class=\"dataframe\">\n",
       "  <thead>\n",
       "    <tr style=\"text-align: right;\">\n",
       "      <th></th>\n",
       "      <th>filename</th>\n",
       "      <th>time_abs(%Y-%m-%dT%H:%M:%S.%f)</th>\n",
       "      <th>time_rel(sec)</th>\n",
       "      <th>evid</th>\n",
       "    </tr>\n",
       "  </thead>\n",
       "  <tbody>\n",
       "    <tr>\n",
       "      <th>0</th>\n",
       "      <td>XB.ELYSE.02.BHV.2022-02-03HR08_evid0005.csv</td>\n",
       "      <td>2022-02-03T08:08:27.000000</td>\n",
       "      <td>507.0</td>\n",
       "      <td>evid0005</td>\n",
       "    </tr>\n",
       "    <tr>\n",
       "      <th>1</th>\n",
       "      <td>XB.ELYSE.02.BHV.2022-01-02HR04_evid0006.csv</td>\n",
       "      <td>2022-01-02T04:35:30.000000</td>\n",
       "      <td>2130.0</td>\n",
       "      <td>evid0006</td>\n",
       "    </tr>\n",
       "  </tbody>\n",
       "</table>\n",
       "</div>"
      ],
      "text/plain": [
       "                                      filename time_abs(%Y-%m-%dT%H:%M:%S.%f)  \\\n",
       "0  XB.ELYSE.02.BHV.2022-02-03HR08_evid0005.csv     2022-02-03T08:08:27.000000   \n",
       "1  XB.ELYSE.02.BHV.2022-01-02HR04_evid0006.csv     2022-01-02T04:35:30.000000   \n",
       "\n",
       "   time_rel(sec)      evid  \n",
       "0          507.0  evid0005  \n",
       "1         2130.0  evid0006  "
      ]
     },
     "execution_count": 37,
     "metadata": {},
     "output_type": "execute_result"
    }
   ],
   "source": [
    "cat_directory = '../data/mars/training/catalogs/'\n",
    "cat_file = cat_directory + 'Mars_InSight_training_catalog_final.csv'\n",
    "cat = pd.read_csv(cat_file)\n",
    "cat\n"
   ]
  },
  {
   "cell_type": "code",
   "execution_count": 38,
   "metadata": {},
   "outputs": [
    {
     "data": {
      "text/plain": [
       "datetime.datetime(2022, 1, 2, 4, 35, 30)"
      ]
     },
     "execution_count": 38,
     "metadata": {},
     "output_type": "execute_result"
    }
   ],
   "source": [
    "row = cat.iloc[1]\n",
    "arrival_time = datetime.strptime(row['time_abs(%Y-%m-%dT%H:%M:%S.%f)'],'%Y-%m-%dT%H:%M:%S.%f')\n",
    "arrival_time"
   ]
  },
  {
   "cell_type": "code",
   "execution_count": 39,
   "metadata": {},
   "outputs": [
    {
     "data": {
      "text/plain": [
       "'XB.ELYSE.02.BHV.2022-01-02HR04_evid0006.csv'"
      ]
     },
     "execution_count": 39,
     "metadata": {},
     "output_type": "execute_result"
    }
   ],
   "source": [
    "test_filename = row.filename\n",
    "test_filename"
   ]
  },
  {
   "cell_type": "code",
   "execution_count": 51,
   "metadata": {},
   "outputs": [],
   "source": [
    "data_directory = r'../data/mars/training/data/'\n",
    "csv_file = f'{data_directory}{test_filename}'\n",
    "mseed_file = f'{data_directory}{test_filename.split(\".csv\")[0]}.mseed'"
   ]
  },
  {
   "cell_type": "code",
   "execution_count": 52,
   "metadata": {},
   "outputs": [
    {
     "data": {
      "text/html": [
       "<div>\n",
       "<style scoped>\n",
       "    .dataframe tbody tr th:only-of-type {\n",
       "        vertical-align: middle;\n",
       "    }\n",
       "\n",
       "    .dataframe tbody tr th {\n",
       "        vertical-align: top;\n",
       "    }\n",
       "\n",
       "    .dataframe thead th {\n",
       "        text-align: right;\n",
       "    }\n",
       "</style>\n",
       "<table border=\"1\" class=\"dataframe\">\n",
       "  <thead>\n",
       "    <tr style=\"text-align: right;\">\n",
       "      <th></th>\n",
       "      <th>time(%Y-%m-%dT%H:%M:%S.%f)</th>\n",
       "      <th>rel_time(sec)</th>\n",
       "      <th>velocity(c/s)</th>\n",
       "    </tr>\n",
       "  </thead>\n",
       "  <tbody>\n",
       "    <tr>\n",
       "      <th>0</th>\n",
       "      <td>2022-01-02T04:00:00.025000</td>\n",
       "      <td>0.00</td>\n",
       "      <td>0.000000</td>\n",
       "    </tr>\n",
       "    <tr>\n",
       "      <th>1</th>\n",
       "      <td>2022-01-02T04:00:00.075000</td>\n",
       "      <td>0.05</td>\n",
       "      <td>0.000503</td>\n",
       "    </tr>\n",
       "    <tr>\n",
       "      <th>2</th>\n",
       "      <td>2022-01-02T04:00:00.125000</td>\n",
       "      <td>0.10</td>\n",
       "      <td>0.003635</td>\n",
       "    </tr>\n",
       "    <tr>\n",
       "      <th>3</th>\n",
       "      <td>2022-01-02T04:00:00.175000</td>\n",
       "      <td>0.15</td>\n",
       "      <td>0.010198</td>\n",
       "    </tr>\n",
       "    <tr>\n",
       "      <th>4</th>\n",
       "      <td>2022-01-02T04:00:00.225000</td>\n",
       "      <td>0.20</td>\n",
       "      <td>0.028214</td>\n",
       "    </tr>\n",
       "    <tr>\n",
       "      <th>...</th>\n",
       "      <td>...</td>\n",
       "      <td>...</td>\n",
       "      <td>...</td>\n",
       "    </tr>\n",
       "    <tr>\n",
       "      <th>71995</th>\n",
       "      <td>2022-01-02T04:59:59.775000</td>\n",
       "      <td>3599.75</td>\n",
       "      <td>0.010700</td>\n",
       "    </tr>\n",
       "    <tr>\n",
       "      <th>71996</th>\n",
       "      <td>2022-01-02T04:59:59.825000</td>\n",
       "      <td>3599.80</td>\n",
       "      <td>0.006193</td>\n",
       "    </tr>\n",
       "    <tr>\n",
       "      <th>71997</th>\n",
       "      <td>2022-01-02T04:59:59.875000</td>\n",
       "      <td>3599.85</td>\n",
       "      <td>0.002047</td>\n",
       "    </tr>\n",
       "    <tr>\n",
       "      <th>71998</th>\n",
       "      <td>2022-01-02T04:59:59.925000</td>\n",
       "      <td>3599.90</td>\n",
       "      <td>0.000555</td>\n",
       "    </tr>\n",
       "    <tr>\n",
       "      <th>71999</th>\n",
       "      <td>2022-01-02T04:59:59.975000</td>\n",
       "      <td>3599.95</td>\n",
       "      <td>0.000000</td>\n",
       "    </tr>\n",
       "  </tbody>\n",
       "</table>\n",
       "<p>72000 rows × 3 columns</p>\n",
       "</div>"
      ],
      "text/plain": [
       "       time(%Y-%m-%dT%H:%M:%S.%f)  rel_time(sec)  velocity(c/s)\n",
       "0      2022-01-02T04:00:00.025000           0.00       0.000000\n",
       "1      2022-01-02T04:00:00.075000           0.05       0.000503\n",
       "2      2022-01-02T04:00:00.125000           0.10       0.003635\n",
       "3      2022-01-02T04:00:00.175000           0.15       0.010198\n",
       "4      2022-01-02T04:00:00.225000           0.20       0.028214\n",
       "...                           ...            ...            ...\n",
       "71995  2022-01-02T04:59:59.775000        3599.75       0.010700\n",
       "71996  2022-01-02T04:59:59.825000        3599.80       0.006193\n",
       "71997  2022-01-02T04:59:59.875000        3599.85       0.002047\n",
       "71998  2022-01-02T04:59:59.925000        3599.90       0.000555\n",
       "71999  2022-01-02T04:59:59.975000        3599.95       0.000000\n",
       "\n",
       "[72000 rows x 3 columns]"
      ]
     },
     "execution_count": 52,
     "metadata": {},
     "output_type": "execute_result"
    }
   ],
   "source": [
    "data_cat = pd.read_csv(csv_file)\n",
    "st = read(mseed_file)\n",
    "data_cat"
   ]
  },
  {
   "cell_type": "code",
   "execution_count": 54,
   "metadata": {},
   "outputs": [
    {
     "data": {
      "text/plain": [
       "<matplotlib.legend.Legend at 0x20a2d07d130>"
      ]
     },
     "execution_count": 54,
     "metadata": {},
     "output_type": "execute_result"
    },
    {
     "data": {
      "image/png": "[encoded data removed]",
      "text/plain": [
       "<Figure size 1000x300 with 1 Axes>"
      ]
     },
     "metadata": {},
     "output_type": "display_data"
    }
   ],
   "source": [
    "# Read in time steps and velocities\n",
    "csv_times_dt = []\n",
    "for absval_str in data_cat['time(%Y-%m-%dT%H:%M:%S.%f)'].values:\n",
    "    csv_times_dt.append(datetime.strptime(absval_str,'%Y-%m-%dT%H:%M:%S.%f'))\n",
    "\n",
    "csv_data = np.array(data_cat['velocity(c/s)'].tolist())\n",
    "\n",
    "# Plot the trace!\n",
    "fig,ax = plt.subplots(1,1,figsize=(10,3))\n",
    "ax.plot(csv_times_dt,csv_data)\n",
    "\n",
    "# Make the plot pretty\n",
    "ax.set_xlim((np.min(csv_times_dt),np.max(csv_times_dt)))\n",
    "ax.set_ylabel('Velocity (c/s)')\n",
    "ax.set_xlabel('Time (month-day hour)')\n",
    "ax.set_title(f'{test_filename}', fontweight='bold')\n",
    "\n",
    "# Plot where the arrival time is\n",
    "arrival_line = ax.axvline(x=arrival_time, c='red', label='Abs. Arrival')\n",
    "ax.legend(handles=[arrival_line])\n"
   ]
  },
  {
   "cell_type": "code",
   "execution_count": 57,
   "metadata": {},
   "outputs": [
    {
     "data": {
      "image/png": "[encoded data removed]",
      "text/plain": [
       "<Figure size 1000x1000 with 3 Axes>"
      ]
     },
     "metadata": {},
     "output_type": "display_data"
    }
   ],
   "source": [
    "# Plot the time series and spectrogram\n",
    "fig = plt.figure(figsize=(10, 10))\n",
    "ax = plt.subplot(2, 1, 1)\n",
    "# Plot trace\n",
    "ax.plot(tr_times_filt,tr_data_filt)\n",
    "\n",
    "# Mark detection\n",
    "ax.axvline(x = arrival, color='red',label='Detection')\n",
    "ax.legend(loc='upper left')\n",
    "\n",
    "# Make the plot pretty\n",
    "ax.set_xlim([min(tr_times_filt),max(tr_times_filt)])\n",
    "ax.set_ylabel('Velocity (c/s)')\n",
    "ax.set_xlabel('Time (month-day hour)')\n",
    "\n",
    "ax2 = plt.subplot(2, 1, 2)\n",
    "vals = ax2.pcolormesh(t, f, sxx, cmap=cm.jet, vmax=5e-17)\n",
    "ax2.set_xlim([min(tr_times_filt),max(tr_times_filt)])\n",
    "ax2.set_xlabel(f'Time (Day Hour:Minute)', fontweight='bold')\n",
    "ax2.set_ylabel('Frequency (Hz)', fontweight='bold')\n",
    "ax2.axvline(x=arrival, c='red')\n",
    "cbar = plt.colorbar(vals, orientation='horizontal')\n",
    "cbar.set_label('Power ((m/s)^2/sqrt(Hz))', fontweight='bold')"
   ]
  },
  {
   "cell_type": "code",
   "execution_count": 59,
   "metadata": {},
   "outputs": [
    {
     "name": "stdout",
     "output_type": "stream",
     "text": [
      "         network: XB\n",
      "         station: ELYSE\n",
      "        location: 02\n",
      "         channel: BHV\n",
      "       starttime: 2022-01-02T04:00:00.025000Z\n",
      "         endtime: 2022-01-02T04:59:59.975000Z\n",
      "   sampling_rate: 20.0\n",
      "           delta: 0.05\n",
      "            npts: 72000\n",
      "           calib: 1.0\n",
      "         _format: MSEED\n",
      "           mseed: AttribDict({'dataquality': 'D', 'number_of_records': 143, 'encoding': 'FLOAT64', 'byteorder': '>', 'record_length': 4096, 'filesize': 585728})\n"
     ]
    }
   ],
   "source": [
    "print(st[0].stats)"
   ]
  },
  {
   "cell_type": "code",
   "execution_count": 60,
   "metadata": {},
   "outputs": [
    {
     "name": "stdout",
     "output_type": "stream",
     "text": [
      "<class 'obspy.core.utcdatetime.UTCDateTime'>\n",
      "<class 'float'>\n"
     ]
    }
   ],
   "source": [
    "print(type(st[0].stats.starttime))  # <class 'obspy.core.utcdatetime.UTCDateTime'>\n",
    "print(type(st[0].stats.sampling_rate))  # <class 'float'>"
   ]
  },
  {
   "cell_type": "code",
   "execution_count": 61,
   "metadata": {},
   "outputs": [],
   "source": [
    "from obspy.signal.invsim import cosine_taper\n",
    "from obspy.signal.filter import highpass\n",
    "from obspy.signal.trigger import classic_sta_lta, plot_trigger, trigger_onset"
   ]
  },
  {
   "cell_type": "code",
   "execution_count": 65,
   "metadata": {},
   "outputs": [
    {
     "data": {
      "text/plain": [
       "Text(0, 0.5, 'Characteristic function')"
      ]
     },
     "execution_count": 65,
     "metadata": {},
     "output_type": "execute_result"
    },
    {
     "data": {
      "image/png": "[encoded data removed]",
      "text/plain": [
       "<Figure size 1200x300 with 1 Axes>"
      ]
     },
     "metadata": {},
     "output_type": "display_data"
    }
   ],
   "source": [
    "df = tr.stats.sampling_rate\n",
    "# How long should the short-term and long-term window be, in seconds?\n",
    "sta_len = 160\n",
    "lta_len = 600\n",
    "# Run Obspy's STA/LTA to obtain a characteristic function\n",
    "# This function basically calculates the ratio of amplitude between the short-term\n",
    "# and long-term windows, moving consecutively in time across the data\n",
    "cft = classic_sta_lta(tr_data, int(sta_len * df), int(lta_len * df))\n",
    "# Plot characteristic function\n",
    "fig,ax = plt.subplots(1,1,figsize=(12,3))\n",
    "ax.plot(tr_times,cft)\n",
    "ax.set_xlim([min(tr_times),max(tr_times)])\n",
    "ax.set_xlabel('Time (s)')\n",
    "ax.set_ylabel('Characteristic function')\n"
   ]
  },
  {
   "cell_type": "code",
   "execution_count": 71,
   "metadata": {},
   "outputs": [
    {
     "data": {
      "text/plain": [
       "<matplotlib.legend.Legend at 0x20a5878b020>"
      ]
     },
     "execution_count": 71,
     "metadata": {},
     "output_type": "execute_result"
    },
    {
     "data": {
      "image/png": "[encoded data removed]",
      "text/plain": [
       "<Figure size 1200x300 with 1 Axes>"
      ]
     },
     "metadata": {},
     "output_type": "display_data"
    }
   ],
   "source": [
    "# Play around with the on and off triggers, based on values in the characteristic function\n",
    "thr_on = 3\n",
    "thr_off = 1.5\n",
    "on_off = np.array(trigger_onset(cft, thr_on, thr_off))\n",
    "# The first column contains the indices where the trigger is turned \"on\".\n",
    "\n",
    "# Plot on and off triggers\n",
    "fig,ax = plt.subplots(1,1,figsize=(12,3))\n",
    "for i in np.arange(0,len(on_off)):\n",
    "    triggers = on_off[i]\n",
    "    ax.axvline(x = tr_times[triggers[0]], color='red', label='Trig. On')\n",
    "    ax.axvline(x = tr_times[triggers[1]], color='purple', label='Trig. Off')\n",
    "\n",
    "# Plot seismogram\n",
    "ax.plot(tr_times,tr_data)\n",
    "ax.set_xlim([min(tr_times),max(tr_times)])\n",
    "ax.legend()\n"
   ]
  },
  {
   "cell_type": "code",
   "execution_count": 72,
   "metadata": {},
   "outputs": [
    {
     "data": {
      "text/html": [
       "<div>\n",
       "<style scoped>\n",
       "    .dataframe tbody tr th:only-of-type {\n",
       "        vertical-align: middle;\n",
       "    }\n",
       "\n",
       "    .dataframe tbody tr th {\n",
       "        vertical-align: top;\n",
       "    }\n",
       "\n",
       "    .dataframe thead th {\n",
       "        text-align: right;\n",
       "    }\n",
       "</style>\n",
       "<table border=\"1\" class=\"dataframe\">\n",
       "  <thead>\n",
       "    <tr style=\"text-align: right;\">\n",
       "      <th></th>\n",
       "      <th>filename</th>\n",
       "      <th>time_abs(%Y-%m-%dT%H:%M:%S.%f)</th>\n",
       "      <th>time_rel(sec)</th>\n",
       "    </tr>\n",
       "  </thead>\n",
       "  <tbody>\n",
       "    <tr>\n",
       "      <th>0</th>\n",
       "      <td>XB.ELYSE.02.BHV.2022-01-02HR04_evid0006.csv</td>\n",
       "      <td>1970-03-25T05:00:28.062642</td>\n",
       "      <td>76651.169811</td>\n",
       "    </tr>\n",
       "    <tr>\n",
       "      <th>1</th>\n",
       "      <td>XB.ELYSE.02.BHV.2022-01-02HR04_evid0006.csv</td>\n",
       "      <td>1970-03-25T21:17:31.609811</td>\n",
       "      <td>76651.169811</td>\n",
       "    </tr>\n",
       "  </tbody>\n",
       "</table>\n",
       "</div>"
      ],
      "text/plain": [
       "                                      filename time_abs(%Y-%m-%dT%H:%M:%S.%f)  \\\n",
       "0  XB.ELYSE.02.BHV.2022-01-02HR04_evid0006.csv     1970-03-25T05:00:28.062642   \n",
       "1  XB.ELYSE.02.BHV.2022-01-02HR04_evid0006.csv     1970-03-25T21:17:31.609811   \n",
       "\n",
       "   time_rel(sec)  \n",
       "0   76651.169811  \n",
       "1   76651.169811  "
      ]
     },
     "execution_count": 72,
     "metadata": {},
     "output_type": "execute_result"
    }
   ],
   "source": [
    "# File name and start time of trace\n",
    "fname = row.filename\n",
    "starttime = tr.stats.starttime.datetime\n",
    "# Iterate through detection times and compile them\n",
    "detection_times = []\n",
    "fnames = []\n",
    "\n",
    "for i in np.arange(0,len(on_off)):\n",
    "    triggers = on_off[i]\n",
    "    on_time = starttime + timedelta(seconds = tr_times[triggers[0]])\n",
    "    on_time_str = datetime.strftime(on_time,'%Y-%m-%dT%H:%M:%S.%f')\n",
    "    detection_times.append(on_time_str)\n",
    "    fnames.append(fname)\n",
    "\n",
    "# Compile dataframe of detections\n",
    "detect_df = pd.DataFrame(data = {'filename':fnames, 'time_abs(%Y-%m-%dT%H:%M:%S.%f)':detection_times, 'time_rel(sec)':tr_times[triggers[0]]})\n",
    "detect_df.head()"
   ]
  },
  {
   "cell_type": "markdown",
   "metadata": {},
   "source": [
    "# Analyze now Mars Data"
   ]
  },
  {
   "cell_type": "code",
   "execution_count": 88,
   "metadata": {},
   "outputs": [],
   "source": [
    "first_mseed_file_path = r'..\\data\\mars\\training\\data\\XB.ELYSE.02.BHV.2022-01-02HR04_evid0005.mseed'\n",
    "st = read(mseed_file)"
   ]
  },
  {
   "cell_type": "code",
   "execution_count": 89,
   "metadata": {},
   "outputs": [
    {
     "data": {
      "text/plain": [
       "         network: XB\n",
       "         station: ELYSE\n",
       "        location: 02\n",
       "         channel: BHV\n",
       "       starttime: 2022-01-02T04:00:00.025000Z\n",
       "         endtime: 2022-01-02T04:59:59.975000Z\n",
       "   sampling_rate: 20.0\n",
       "           delta: 0.05\n",
       "            npts: 72000\n",
       "           calib: 1.0\n",
       "         _format: MSEED\n",
       "           mseed: AttribDict({'dataquality': 'D', 'number_of_records': 143, 'encoding': 'FLOAT64', 'byteorder': '>', 'record_length': 4096, 'filesize': 585728})"
      ]
     },
     "execution_count": 89,
     "metadata": {},
     "output_type": "execute_result"
    }
   ],
   "source": [
    "st[0].stats"
   ]
  },
  {
   "cell_type": "code",
   "execution_count": 90,
   "metadata": {},
   "outputs": [],
   "source": [
    "bhu = st.select(channel=\"BHU\")\n",
    "bhv = st.select(channel=\"BHV\")\n",
    "bhw = st.select(channel=\"BHW\")"
   ]
  },
  {
   "cell_type": "code",
   "execution_count": 103,
   "metadata": {},
   "outputs": [
    {
     "name": "stdout",
     "output_type": "stream",
     "text": [
      "BHW: 0 Trace(s) in Stream:\n",
      "\n",
      "BHU: 0 Trace(s) in Stream:\n",
      "\n",
      "BHV: 1 Trace(s) in Stream:\n",
      "XB.ELYSE.02.BHV | 2022-01-02T04:00:00.025000Z - 2022-01-02T04:59:59.975000Z | 20.0 Hz, 72000 samples\n"
     ]
    }
   ],
   "source": [
    "print(f\"BHW: {bhw}\")\n",
    "print(f\"BHU: {bhu}\")\n",
    "print(f\"BHV: {bhv}\")"
   ]
  },
  {
   "cell_type": "code",
   "execution_count": 107,
   "metadata": {},
   "outputs": [],
   "source": [
    "first_mseed_file_path = r'D:\\Projects\\NASA SpaceApps\\xb.elyse.67.mhw.mqs2019drgb.1.mseed'\n",
    "st = read(mseed_file)"
   ]
  },
  {
   "cell_type": "code",
   "execution_count": 108,
   "metadata": {},
   "outputs": [],
   "source": [
    "bhu = st.select(channel=\"BHU\")\n",
    "bhv = st.select(channel=\"BHV\")\n",
    "bhw = st.select(channel=\"BHW\")"
   ]
  },
  {
   "cell_type": "code",
   "execution_count": 109,
   "metadata": {},
   "outputs": [
    {
     "name": "stdout",
     "output_type": "stream",
     "text": [
      "BHW: 0 Trace(s) in Stream:\n",
      "\n",
      "BHU: 0 Trace(s) in Stream:\n",
      "\n",
      "BHV: 1 Trace(s) in Stream:\n",
      "XB.ELYSE.02.BHV | 2022-01-02T04:00:00.025000Z - 2022-01-02T04:59:59.975000Z | 20.0 Hz, 72000 samples\n"
     ]
    }
   ],
   "source": [
    "print(f\"BHW: {bhw}\")\n",
    "print(f\"BHU: {bhu}\")\n",
    "print(f\"BHV: {bhv}\")"
   ]
  },
  {
   "cell_type": "markdown",
   "metadata": {},
   "source": [
    "# Exploring again all data"
   ]
  },
  {
   "cell_type": "code",
   "execution_count": 110,
   "metadata": {},
   "outputs": [
    {
     "data": {
      "text/html": [
       "<div>\n",
       "<style scoped>\n",
       "    .dataframe tbody tr th:only-of-type {\n",
       "        vertical-align: middle;\n",
       "    }\n",
       "\n",
       "    .dataframe tbody tr th {\n",
       "        vertical-align: top;\n",
       "    }\n",
       "\n",
       "    .dataframe thead th {\n",
       "        text-align: right;\n",
       "    }\n",
       "</style>\n",
       "<table border=\"1\" class=\"dataframe\">\n",
       "  <thead>\n",
       "    <tr style=\"text-align: right;\">\n",
       "      <th></th>\n",
       "      <th>filename</th>\n",
       "      <th>time_abs(%Y-%m-%dT%H:%M:%S.%f)</th>\n",
       "      <th>time_rel(sec)</th>\n",
       "      <th>evid</th>\n",
       "      <th>mq_type</th>\n",
       "    </tr>\n",
       "  </thead>\n",
       "  <tbody>\n",
       "    <tr>\n",
       "      <th>0</th>\n",
       "      <td>xa.s12.00.mhz.1970-01-19HR00_evid00002</td>\n",
       "      <td>1970-01-19T20:25:00.000000</td>\n",
       "      <td>73500.0</td>\n",
       "      <td>evid00002</td>\n",
       "      <td>impact_mq</td>\n",
       "    </tr>\n",
       "    <tr>\n",
       "      <th>1</th>\n",
       "      <td>xa.s12.00.mhz.1970-03-25HR00_evid00003</td>\n",
       "      <td>1970-03-25T03:32:00.000000</td>\n",
       "      <td>12720.0</td>\n",
       "      <td>evid00003</td>\n",
       "      <td>impact_mq</td>\n",
       "    </tr>\n",
       "    <tr>\n",
       "      <th>2</th>\n",
       "      <td>xa.s12.00.mhz.1970-03-26HR00_evid00004</td>\n",
       "      <td>1970-03-26T20:17:00.000000</td>\n",
       "      <td>73020.0</td>\n",
       "      <td>evid00004</td>\n",
       "      <td>impact_mq</td>\n",
       "    </tr>\n",
       "    <tr>\n",
       "      <th>3</th>\n",
       "      <td>xa.s12.00.mhz.1970-04-25HR00_evid00006</td>\n",
       "      <td>1970-04-25T01:14:00.000000</td>\n",
       "      <td>4440.0</td>\n",
       "      <td>evid00006</td>\n",
       "      <td>impact_mq</td>\n",
       "    </tr>\n",
       "    <tr>\n",
       "      <th>4</th>\n",
       "      <td>xa.s12.00.mhz.1970-04-26HR00_evid00007</td>\n",
       "      <td>1970-04-26T14:29:00.000000</td>\n",
       "      <td>52140.0</td>\n",
       "      <td>evid00007</td>\n",
       "      <td>deep_mq</td>\n",
       "    </tr>\n",
       "    <tr>\n",
       "      <th>...</th>\n",
       "      <td>...</td>\n",
       "      <td>...</td>\n",
       "      <td>...</td>\n",
       "      <td>...</td>\n",
       "      <td>...</td>\n",
       "    </tr>\n",
       "    <tr>\n",
       "      <th>71</th>\n",
       "      <td>xa.s12.00.mhz.1974-10-14HR00_evid00156</td>\n",
       "      <td>1974-10-14T17:43:00.000000</td>\n",
       "      <td>63780.0</td>\n",
       "      <td>evid00156</td>\n",
       "      <td>impact_mq</td>\n",
       "    </tr>\n",
       "    <tr>\n",
       "      <th>72</th>\n",
       "      <td>xa.s12.00.mhz.1975-04-12HR00_evid00191</td>\n",
       "      <td>1975-04-12T18:15:00.000000</td>\n",
       "      <td>65700.0</td>\n",
       "      <td>evid00191</td>\n",
       "      <td>impact_mq</td>\n",
       "    </tr>\n",
       "    <tr>\n",
       "      <th>73</th>\n",
       "      <td>xa.s12.00.mhz.1975-05-04HR00_evid00192</td>\n",
       "      <td>1975-05-04T10:05:00.000000</td>\n",
       "      <td>36300.0</td>\n",
       "      <td>evid00192</td>\n",
       "      <td>impact_mq</td>\n",
       "    </tr>\n",
       "    <tr>\n",
       "      <th>74</th>\n",
       "      <td>xa.s12.00.mhz.1975-06-24HR00_evid00196</td>\n",
       "      <td>1975-06-24T16:03:00.000000</td>\n",
       "      <td>57780.0</td>\n",
       "      <td>evid00196</td>\n",
       "      <td>impact_mq</td>\n",
       "    </tr>\n",
       "    <tr>\n",
       "      <th>75</th>\n",
       "      <td>xa.s12.00.mhz.1975-06-26HR00_evid00198</td>\n",
       "      <td>1975-06-26T03:24:00.000000</td>\n",
       "      <td>12240.0</td>\n",
       "      <td>evid00198</td>\n",
       "      <td>impact_mq</td>\n",
       "    </tr>\n",
       "  </tbody>\n",
       "</table>\n",
       "<p>76 rows × 5 columns</p>\n",
       "</div>"
      ],
      "text/plain": [
       "                                  filename time_abs(%Y-%m-%dT%H:%M:%S.%f)  \\\n",
       "0   xa.s12.00.mhz.1970-01-19HR00_evid00002     1970-01-19T20:25:00.000000   \n",
       "1   xa.s12.00.mhz.1970-03-25HR00_evid00003     1970-03-25T03:32:00.000000   \n",
       "2   xa.s12.00.mhz.1970-03-26HR00_evid00004     1970-03-26T20:17:00.000000   \n",
       "3   xa.s12.00.mhz.1970-04-25HR00_evid00006     1970-04-25T01:14:00.000000   \n",
       "4   xa.s12.00.mhz.1970-04-26HR00_evid00007     1970-04-26T14:29:00.000000   \n",
       "..                                     ...                            ...   \n",
       "71  xa.s12.00.mhz.1974-10-14HR00_evid00156     1974-10-14T17:43:00.000000   \n",
       "72  xa.s12.00.mhz.1975-04-12HR00_evid00191     1975-04-12T18:15:00.000000   \n",
       "73  xa.s12.00.mhz.1975-05-04HR00_evid00192     1975-05-04T10:05:00.000000   \n",
       "74  xa.s12.00.mhz.1975-06-24HR00_evid00196     1975-06-24T16:03:00.000000   \n",
       "75  xa.s12.00.mhz.1975-06-26HR00_evid00198     1975-06-26T03:24:00.000000   \n",
       "\n",
       "    time_rel(sec)       evid    mq_type  \n",
       "0         73500.0  evid00002  impact_mq  \n",
       "1         12720.0  evid00003  impact_mq  \n",
       "2         73020.0  evid00004  impact_mq  \n",
       "3          4440.0  evid00006  impact_mq  \n",
       "4         52140.0  evid00007    deep_mq  \n",
       "..            ...        ...        ...  \n",
       "71        63780.0  evid00156  impact_mq  \n",
       "72        65700.0  evid00191  impact_mq  \n",
       "73        36300.0  evid00192  impact_mq  \n",
       "74        57780.0  evid00196  impact_mq  \n",
       "75        12240.0  evid00198  impact_mq  \n",
       "\n",
       "[76 rows x 5 columns]"
      ]
     },
     "execution_count": 110,
     "metadata": {},
     "output_type": "execute_result"
    }
   ],
   "source": [
    "cat_directory_lunar = '../data/lunar/training/catalogs/'\n",
    "cat_file = cat_directory_lunar + 'apollo12_catalog_GradeA_final.csv'\n",
    "cat = pd.read_csv(cat_file)\n",
    "cat\n"
   ]
  },
  {
   "cell_type": "code",
   "execution_count": 115,
   "metadata": {},
   "outputs": [
    {
     "data": {
      "text/plain": [
       "array(['xa.s12.00.mhz.1970-01-19HR00_evid00002',\n",
       "       'xa.s12.00.mhz.1970-03-25HR00_evid00003',\n",
       "       'xa.s12.00.mhz.1970-03-26HR00_evid00004',\n",
       "       'xa.s12.00.mhz.1970-04-25HR00_evid00006',\n",
       "       'xa.s12.00.mhz.1970-04-26HR00_evid00007',\n",
       "       'xa.s12.00.mhz.1970-06-15HR00_evid00008',\n",
       "       'xa.s12.00.mhz.1970-06-26HR00_evid00009',\n",
       "       'xa.s12.00.mhz.1970-07-20HR00_evid00010',\n",
       "       'xa.s12.00.mhz.1970-07-20HR00_evid00011',\n",
       "       'xa.s12.00.mhz.1970-09-26HR00_evid00013',\n",
       "       'xa.s12.00.mhz.1970-10-24HR00_evid00014',\n",
       "       'xa.s12.00.mhz.1970-11-12HR00_evid00015',\n",
       "       'xa.s12.00.mhz.1970-12-11HR00_evid00017',\n",
       "       'xa.s12.00.mhz.1970-12-27HR00_evid00019',\n",
       "       'xa.s12.00.mhz.1970-12-31HR00_evid00021',\n",
       "       'xa.s12.00.mhz.1971-01-15HR00_evid00022',\n",
       "       'xa.s12.00.mhz.1971-01-28HR00_evid00023',\n",
       "       'xa.s12.00.mhz.1971-01-29HR00_evid00024',\n",
       "       'xa.s12.00.mhz.1971-02-09HR00_evid00026',\n",
       "       'xa.s12.00.mhz.1971-03-25HR00_evid00028',\n",
       "       'xa.s12.00.mhz.1971-04-13HR00_evid00029',\n",
       "       'xa.s12.00.mhz.1971-04-17HR00_evid00030',\n",
       "       'xa.s12.00.mhz.1971-05-12HR00_evid00031',\n",
       "       'xa.s12.00.mhz.1971-05-12HR00_evid00032',\n",
       "       'xa.s12.00.mhz.1971-05-13HR00_evid00033',\n",
       "       'xa.s12.00.mhz.1971-05-23HR00_evid00034',\n",
       "       'xa.s12.00.mhz.1971-06-12HR00_evid00035',\n",
       "       'xa.s12.00.mhz.1971-09-25HR00_evid00042',\n",
       "       'xa.s12.00.mhz.1971-10-18HR00_evid00043',\n",
       "       'xa.s12.00.mhz.1971-10-20HR00_evid00044',\n",
       "       'xa.s12.00.mhz.1971-10-31HR00_evid00045',\n",
       "       'xa.s12.00.mhz.1971-11-14HR00_evid00046',\n",
       "       'xa.s12.00.mhz.1972-01-04HR00_evid00049',\n",
       "       'xa.s12.00.mhz.1972-03-12HR00_evid00052',\n",
       "       'xa.s12.00.mhz.1972-05-11HR00_evid00055',\n",
       "       'xa.s12.00.mhz.1972-06-16HR00_evid00060',\n",
       "       'xa.s12.00.mhz.1972-07-17HR00_evid00067',\n",
       "       'xa.s12.00.mhz.1972-07-17HR00_evid00068',\n",
       "       'xa.s12.00.mhz.1972-07-28HR00_evid00070',\n",
       "       'xa.s12.00.mhz.1972-07-31HR00_evid00071',\n",
       "       'xa.s12.00.mhz.1972-12-02HR00_evid00083',\n",
       "       'xa.s12.00.mhz.1972-12-03HR00_evid00084',\n",
       "       'xa.s12.00.mhz.1973-01-18HR00_evid00088',\n",
       "       'xa.s12.00.mhz.1973-01-31HR00_evid00091',\n",
       "       'xa.s12.00.mhz.1973-03-01HR00_evid00093',\n",
       "       'xa.s12.00.mhz.1973-03-13HR00_evid00094',\n",
       "       'xa.s12.00.mhz.1973-03-24HR00_evid00097',\n",
       "       'xa.s12.00.mhz.1973-05-14HR00_evid00104',\n",
       "       'xa.s12.00.mhz.1973-06-05HR00_evid00107',\n",
       "       'xa.s12.00.mhz.1973-06-05HR00_evid00108',\n",
       "       'xa.s12.00.mhz.1973-06-18HR00_evid00109',\n",
       "       'xa.s12.00.mhz.1973-06-27HR00_evid00112',\n",
       "       'xa.s12.00.mhz.1973-07-03HR00_evid00113',\n",
       "       'xa.s12.00.mhz.1973-07-04HR00_evid00114',\n",
       "       'xa.s12.00.mhz.1973-07-20HR00_evid00117',\n",
       "       'xa.s12.00.mhz.1973-07-28HR00_evid00120',\n",
       "       'xa.s12.00.mhz.1973-07-29HR00_evid00121',\n",
       "       'xa.s12.00.mhz.1973-08-21HR00_evid00127',\n",
       "       'xa.s12.00.mhz.1974-01-10HR00_evid00136',\n",
       "       'xa.s12.00.mhz.1974-02-07HR00_evid00137',\n",
       "       'xa.s12.00.mhz.1974-02-12HR00_evid00138',\n",
       "       'xa.s12.00.mhz.1974-03-25HR00_evid00140',\n",
       "       'xa.s12.00.mhz.1974-04-08HR00_evid00141',\n",
       "       'xa.s12.00.mhz.1974-04-19HR00_evid00142',\n",
       "       'xa.s12.00.mhz.1974-04-26HR00_evid00144',\n",
       "       'xa.s12.00.mhz.1974-04-27HR00_evid00145',\n",
       "       'xa.s12.00.mhz.1974-06-25HR00_evid00149',\n",
       "       'xa.s12.00.mhz.1974-07-06HR00_evid00150',\n",
       "       'xa.s12.00.mhz.1974-07-06HR00_evid00151',\n",
       "       'xa.s12.00.mhz.1974-07-11HR00_evid00152',\n",
       "       'xa.s12.00.mhz.1974-07-17HR00_evid00153',\n",
       "       'xa.s12.00.mhz.1974-10-14HR00_evid00156',\n",
       "       'xa.s12.00.mhz.1975-04-12HR00_evid00191',\n",
       "       'xa.s12.00.mhz.1975-05-04HR00_evid00192',\n",
       "       'xa.s12.00.mhz.1975-06-24HR00_evid00196',\n",
       "       'xa.s12.00.mhz.1975-06-26HR00_evid00198'], dtype=object)"
      ]
     },
     "execution_count": 115,
     "metadata": {},
     "output_type": "execute_result"
    }
   ],
   "source": [
    "lunar_file_name = cat.iloc[:,0].values\n",
    "lunar_file_name"
   ]
  },
  {
   "cell_type": "code",
   "execution_count": 116,
   "metadata": {},
   "outputs": [],
   "source": [
    "data_directory = '../data/lunar/training/data/S12_GradeA/'\n",
    "mseed_first_file = f'{data_directory}{lunar_file_name[0]}.mseed'"
   ]
  },
  {
   "cell_type": "code",
   "execution_count": 117,
   "metadata": {},
   "outputs": [
    {
     "data": {
      "text/plain": [
       "'../data/lunar/training/data/S12_GradeA/xa.s12.00.mhz.1970-01-19HR00_evid00002.mseed'"
      ]
     },
     "execution_count": 117,
     "metadata": {},
     "output_type": "execute_result"
    }
   ],
   "source": [
    "mseed_first_file"
   ]
  },
  {
   "cell_type": "code",
   "execution_count": 121,
   "metadata": {},
   "outputs": [
    {
     "data": {
      "text/plain": [
       "1 Trace(s) in Stream:\n",
       "XA.S12.00.MHZ | 1970-01-19T00:00:00.665000Z - 1970-01-20T00:00:02.778208Z | 6.6 Hz, 572415 samples"
      ]
     },
     "execution_count": 121,
     "metadata": {},
     "output_type": "execute_result"
    }
   ],
   "source": [
    "st = read(mseed_first_file)\n",
    "st"
   ]
  },
  {
   "cell_type": "code",
   "execution_count": 123,
   "metadata": {},
   "outputs": [
    {
     "data": {
      "text/plain": [
       "         network: XA\n",
       "         station: S12\n",
       "        location: 00\n",
       "         channel: MHZ\n",
       "       starttime: 1970-01-19T00:00:00.665000Z\n",
       "         endtime: 1970-01-20T00:00:02.778208Z\n",
       "   sampling_rate: 6.625\n",
       "           delta: 0.1509433962264151\n",
       "            npts: 572415\n",
       "           calib: 1.0\n",
       "         _format: MSEED\n",
       "           mseed: AttribDict({'dataquality': 'D', 'number_of_records': 1136, 'encoding': 'FLOAT64', 'byteorder': '>', 'record_length': 4096, 'filesize': 4653056})"
      ]
     },
     "execution_count": 123,
     "metadata": {},
     "output_type": "execute_result"
    }
   ],
   "source": [
    "st[0].stats"
   ]
  },
  {
   "cell_type": "code",
   "execution_count": 130,
   "metadata": {},
   "outputs": [],
   "source": [
    "import obspy\n",
    "import pandas as pd\n",
    "\n",
    "def extract_stats(file_name):\n",
    "    \"\"\"Extracts statistical data from an mseed file.\n",
    "\n",
    "    Args:\n",
    "        file_name (str): The name of the mseed file.\n",
    "\n",
    "    Returns:\n",
    "        dict: A dictionary containing the extracted statistical data.\n",
    "    \"\"\"\n",
    "\n",
    "    # Load the mseed file using obspy\n",
    "    st = obspy.read(file_name)\n",
    "\n",
    "    # Extract the desired statistical data\n",
    "    stats = {\n",
    "        \"mseed_file_name\": os.path.basename(file_name),\n",
    "        \"starttime\": st[0].stats.starttime,\n",
    "        \"endtime\": st[0].stats.endtime,\n",
    "        \"sampling_rate\": st[0].stats.sampling_rate,\n",
    "        \"delta\": st[0].stats.delta,\n",
    "        \"npts\": st[0].stats.npts,\n",
    "        \"channel\": st[0].stats.channel\n",
    "    }\n",
    "\n",
    "    return stats"
   ]
  },
  {
   "cell_type": "code",
   "execution_count": 131,
   "metadata": {},
   "outputs": [],
   "source": [
    "# Create an empty list to store the extracted data\n",
    "data = []\n",
    "\n",
    "# Iterate over the file names and extract the stats\n",
    "for file_name in lunar_file_name:\n",
    "    mseed_full_path = f'{data_directory}{file_name}.mseed'\n",
    "    try:\n",
    "        stats = extract_stats(mseed_full_path)\n",
    "        data.append(stats)\n",
    "    except FileNotFoundError:\n",
    "        pass\n",
    "    \n",
    "\n",
    "# Create a pandas DataFrame from the extracted data\n",
    "mseed_all_files_info_dataframe = pd.DataFrame(data)\n"
   ]
  },
  {
   "cell_type": "code",
   "execution_count": 136,
   "metadata": {},
   "outputs": [
    {
     "data": {
      "text/html": [
       "<div>\n",
       "<style scoped>\n",
       "    .dataframe tbody tr th:only-of-type {\n",
       "        vertical-align: middle;\n",
       "    }\n",
       "\n",
       "    .dataframe tbody tr th {\n",
       "        vertical-align: top;\n",
       "    }\n",
       "\n",
       "    .dataframe thead th {\n",
       "        text-align: right;\n",
       "    }\n",
       "</style>\n",
       "<table border=\"1\" class=\"dataframe\">\n",
       "  <thead>\n",
       "    <tr style=\"text-align: right;\">\n",
       "      <th></th>\n",
       "      <th>mseed_file_name</th>\n",
       "      <th>starttime</th>\n",
       "      <th>endtime</th>\n",
       "      <th>sampling_rate</th>\n",
       "      <th>delta</th>\n",
       "      <th>npts</th>\n",
       "      <th>channel</th>\n",
       "    </tr>\n",
       "  </thead>\n",
       "  <tbody>\n",
       "    <tr>\n",
       "      <th>0</th>\n",
       "      <td>xa.s12.00.mhz.1970-01-19HR00_evid00002.mseed</td>\n",
       "      <td>1970-01-19T00:00:00.665000Z</td>\n",
       "      <td>1970-01-20T00:00:02.778208Z</td>\n",
       "      <td>6.625</td>\n",
       "      <td>0.150943</td>\n",
       "      <td>572415</td>\n",
       "      <td>MHZ</td>\n",
       "    </tr>\n",
       "    <tr>\n",
       "      <th>1</th>\n",
       "      <td>xa.s12.00.mhz.1970-03-25HR00_evid00003.mseed</td>\n",
       "      <td>1970-03-25T00:00:00.440000Z</td>\n",
       "      <td>1970-03-26T00:00:01.949434Z</td>\n",
       "      <td>6.625</td>\n",
       "      <td>0.150943</td>\n",
       "      <td>572411</td>\n",
       "      <td>MHZ</td>\n",
       "    </tr>\n",
       "    <tr>\n",
       "      <th>2</th>\n",
       "      <td>xa.s12.00.mhz.1970-03-26HR00_evid00004.mseed</td>\n",
       "      <td>1970-03-26T00:00:00.565000Z</td>\n",
       "      <td>1970-03-27T00:00:02.074434Z</td>\n",
       "      <td>6.625</td>\n",
       "      <td>0.150943</td>\n",
       "      <td>572411</td>\n",
       "      <td>MHZ</td>\n",
       "    </tr>\n",
       "    <tr>\n",
       "      <th>3</th>\n",
       "      <td>xa.s12.00.mhz.1970-04-25HR00_evid00006.mseed</td>\n",
       "      <td>1970-04-25T00:00:00.196000Z</td>\n",
       "      <td>1970-04-26T00:00:02.309208Z</td>\n",
       "      <td>6.625</td>\n",
       "      <td>0.150943</td>\n",
       "      <td>572415</td>\n",
       "      <td>MHZ</td>\n",
       "    </tr>\n",
       "    <tr>\n",
       "      <th>4</th>\n",
       "      <td>xa.s12.00.mhz.1970-04-26HR00_evid00007.mseed</td>\n",
       "      <td>1970-04-26T00:00:00.660000Z</td>\n",
       "      <td>1970-04-27T00:00:02.169434Z</td>\n",
       "      <td>6.625</td>\n",
       "      <td>0.150943</td>\n",
       "      <td>572411</td>\n",
       "      <td>MHZ</td>\n",
       "    </tr>\n",
       "    <tr>\n",
       "      <th>5</th>\n",
       "      <td>xa.s12.00.mhz.1970-06-15HR00_evid00008.mseed</td>\n",
       "      <td>1970-06-15T00:00:00.510000Z</td>\n",
       "      <td>1970-06-16T00:00:03.076038Z</td>\n",
       "      <td>6.625</td>\n",
       "      <td>0.150943</td>\n",
       "      <td>572418</td>\n",
       "      <td>MHZ</td>\n",
       "    </tr>\n",
       "    <tr>\n",
       "      <th>6</th>\n",
       "      <td>xa.s12.00.mhz.1970-06-26HR00_evid00009.mseed</td>\n",
       "      <td>1970-06-26T00:00:00.116000Z</td>\n",
       "      <td>1970-06-27T00:00:03.436755Z</td>\n",
       "      <td>6.625</td>\n",
       "      <td>0.150943</td>\n",
       "      <td>572423</td>\n",
       "      <td>MHZ</td>\n",
       "    </tr>\n",
       "    <tr>\n",
       "      <th>7</th>\n",
       "      <td>xa.s12.00.mhz.1970-07-20HR00_evid00010.mseed</td>\n",
       "      <td>1970-07-20T00:00:00.487000Z</td>\n",
       "      <td>1970-07-21T00:00:01.996434Z</td>\n",
       "      <td>6.625</td>\n",
       "      <td>0.150943</td>\n",
       "      <td>572411</td>\n",
       "      <td>MHZ</td>\n",
       "    </tr>\n",
       "    <tr>\n",
       "      <th>8</th>\n",
       "      <td>xa.s12.00.mhz.1970-07-20HR00_evid00011.mseed</td>\n",
       "      <td>1970-07-20T00:00:00.487000Z</td>\n",
       "      <td>1970-07-21T00:00:01.996434Z</td>\n",
       "      <td>6.625</td>\n",
       "      <td>0.150943</td>\n",
       "      <td>572411</td>\n",
       "      <td>MHZ</td>\n",
       "    </tr>\n",
       "    <tr>\n",
       "      <th>9</th>\n",
       "      <td>xa.s12.00.mhz.1970-09-26HR00_evid00013.mseed</td>\n",
       "      <td>1970-09-26T00:00:00.149000Z</td>\n",
       "      <td>1970-09-27T00:00:03.469755Z</td>\n",
       "      <td>6.625</td>\n",
       "      <td>0.150943</td>\n",
       "      <td>572423</td>\n",
       "      <td>MHZ</td>\n",
       "    </tr>\n",
       "    <tr>\n",
       "      <th>10</th>\n",
       "      <td>xa.s12.00.mhz.1970-10-24HR00_evid00014.mseed</td>\n",
       "      <td>1970-10-24T00:00:00.504000Z</td>\n",
       "      <td>1970-10-25T00:00:03.371925Z</td>\n",
       "      <td>6.625</td>\n",
       "      <td>0.150943</td>\n",
       "      <td>572420</td>\n",
       "      <td>MHZ</td>\n",
       "    </tr>\n",
       "    <tr>\n",
       "      <th>11</th>\n",
       "      <td>xa.s12.00.mhz.1970-11-12HR00_evid00015.mseed</td>\n",
       "      <td>1970-11-12T00:00:00.700000Z</td>\n",
       "      <td>1970-11-13T00:00:02.209434Z</td>\n",
       "      <td>6.625</td>\n",
       "      <td>0.150943</td>\n",
       "      <td>572411</td>\n",
       "      <td>MHZ</td>\n",
       "    </tr>\n",
       "    <tr>\n",
       "      <th>12</th>\n",
       "      <td>xa.s12.00.mhz.1970-12-11HR00_evid00017.mseed</td>\n",
       "      <td>1970-12-11T00:00:00.326000Z</td>\n",
       "      <td>1970-12-12T00:00:02.439208Z</td>\n",
       "      <td>6.625</td>\n",
       "      <td>0.150943</td>\n",
       "      <td>572415</td>\n",
       "      <td>MHZ</td>\n",
       "    </tr>\n",
       "    <tr>\n",
       "      <th>13</th>\n",
       "      <td>xa.s12.00.mhz.1970-12-27HR00_evid00019.mseed</td>\n",
       "      <td>1970-12-27T00:00:00.517000Z</td>\n",
       "      <td>1970-12-28T00:00:03.837755Z</td>\n",
       "      <td>6.625</td>\n",
       "      <td>0.150943</td>\n",
       "      <td>572423</td>\n",
       "      <td>MHZ</td>\n",
       "    </tr>\n",
       "    <tr>\n",
       "      <th>14</th>\n",
       "      <td>xa.s12.00.mhz.1970-12-31HR00_evid00021.mseed</td>\n",
       "      <td>1970-12-31T00:00:00.339000Z</td>\n",
       "      <td>1971-01-01T00:00:01.848434Z</td>\n",
       "      <td>6.625</td>\n",
       "      <td>0.150943</td>\n",
       "      <td>572411</td>\n",
       "      <td>MHZ</td>\n",
       "    </tr>\n",
       "    <tr>\n",
       "      <th>15</th>\n",
       "      <td>xa.s12.00.mhz.1971-01-15HR00_evid00022.mseed</td>\n",
       "      <td>1971-01-15T00:00:00.258000Z</td>\n",
       "      <td>1971-01-16T00:00:01.767434Z</td>\n",
       "      <td>6.625</td>\n",
       "      <td>0.150943</td>\n",
       "      <td>572411</td>\n",
       "      <td>MHZ</td>\n",
       "    </tr>\n",
       "    <tr>\n",
       "      <th>16</th>\n",
       "      <td>xa.s12.00.mhz.1971-01-28HR00_evid00023.mseed</td>\n",
       "      <td>1971-01-28T00:00:00.234000Z</td>\n",
       "      <td>1971-01-29T00:00:03.554755Z</td>\n",
       "      <td>6.625</td>\n",
       "      <td>0.150943</td>\n",
       "      <td>572423</td>\n",
       "      <td>MHZ</td>\n",
       "    </tr>\n",
       "    <tr>\n",
       "      <th>17</th>\n",
       "      <td>xa.s12.00.mhz.1971-01-29HR00_evid00024.mseed</td>\n",
       "      <td>1971-01-29T00:00:00.194000Z</td>\n",
       "      <td>1971-01-30T00:00:03.514755Z</td>\n",
       "      <td>6.625</td>\n",
       "      <td>0.150943</td>\n",
       "      <td>572423</td>\n",
       "      <td>MHZ</td>\n",
       "    </tr>\n",
       "    <tr>\n",
       "      <th>18</th>\n",
       "      <td>xa.s12.00.mhz.1971-02-09HR00_evid00026.mseed</td>\n",
       "      <td>1971-02-09T00:00:00.179000Z</td>\n",
       "      <td>1971-02-10T00:00:01.688434Z</td>\n",
       "      <td>6.625</td>\n",
       "      <td>0.150943</td>\n",
       "      <td>572411</td>\n",
       "      <td>MHZ</td>\n",
       "    </tr>\n",
       "    <tr>\n",
       "      <th>19</th>\n",
       "      <td>xa.s12.00.mhz.1971-03-25HR00_evid00028.mseed</td>\n",
       "      <td>1971-03-25T00:00:00.151000Z</td>\n",
       "      <td>1971-03-26T00:00:04.075528Z</td>\n",
       "      <td>6.625</td>\n",
       "      <td>0.150943</td>\n",
       "      <td>572427</td>\n",
       "      <td>MHZ</td>\n",
       "    </tr>\n",
       "    <tr>\n",
       "      <th>20</th>\n",
       "      <td>xa.s12.00.mhz.1971-04-17HR00_evid00030.mseed</td>\n",
       "      <td>1971-04-17T00:00:00.387000Z</td>\n",
       "      <td>1971-04-18T00:00:02.953038Z</td>\n",
       "      <td>6.625</td>\n",
       "      <td>0.150943</td>\n",
       "      <td>572418</td>\n",
       "      <td>MHZ</td>\n",
       "    </tr>\n",
       "    <tr>\n",
       "      <th>21</th>\n",
       "      <td>xa.s12.00.mhz.1971-05-12HR00_evid00031.mseed</td>\n",
       "      <td>1971-05-12T00:00:00.712000Z</td>\n",
       "      <td>1971-05-13T00:00:01.617660Z</td>\n",
       "      <td>6.625</td>\n",
       "      <td>0.150943</td>\n",
       "      <td>572407</td>\n",
       "      <td>MHZ</td>\n",
       "    </tr>\n",
       "    <tr>\n",
       "      <th>22</th>\n",
       "      <td>xa.s12.00.mhz.1971-05-12HR00_evid00032.mseed</td>\n",
       "      <td>1971-05-12T00:00:00.712000Z</td>\n",
       "      <td>1971-05-13T00:00:01.617660Z</td>\n",
       "      <td>6.625</td>\n",
       "      <td>0.150943</td>\n",
       "      <td>572407</td>\n",
       "      <td>MHZ</td>\n",
       "    </tr>\n",
       "    <tr>\n",
       "      <th>23</th>\n",
       "      <td>xa.s12.00.mhz.1971-05-13HR00_evid00033.mseed</td>\n",
       "      <td>1971-05-13T00:00:00.183000Z</td>\n",
       "      <td>1971-05-14T00:00:01.692434Z</td>\n",
       "      <td>6.625</td>\n",
       "      <td>0.150943</td>\n",
       "      <td>572411</td>\n",
       "      <td>MHZ</td>\n",
       "    </tr>\n",
       "    <tr>\n",
       "      <th>24</th>\n",
       "      <td>xa.s12.00.mhz.1971-05-23HR00_evid00034.mseed</td>\n",
       "      <td>1971-05-23T00:00:00.502000Z</td>\n",
       "      <td>1971-05-24T00:00:03.822755Z</td>\n",
       "      <td>6.625</td>\n",
       "      <td>0.150943</td>\n",
       "      <td>572423</td>\n",
       "      <td>MHZ</td>\n",
       "    </tr>\n",
       "    <tr>\n",
       "      <th>25</th>\n",
       "      <td>xa.s12.00.mhz.1971-06-12HR00_evid00035.mseed</td>\n",
       "      <td>1971-06-12T00:00:00.529000Z</td>\n",
       "      <td>1971-06-13T00:00:03.095038Z</td>\n",
       "      <td>6.625</td>\n",
       "      <td>0.150943</td>\n",
       "      <td>572418</td>\n",
       "      <td>MHZ</td>\n",
       "    </tr>\n",
       "    <tr>\n",
       "      <th>26</th>\n",
       "      <td>xa.s12.00.mhz.1971-09-25HR00_evid00042.mseed</td>\n",
       "      <td>1971-09-25T00:00:00.576000Z</td>\n",
       "      <td>1971-09-26T00:00:00.274113Z</td>\n",
       "      <td>6.625</td>\n",
       "      <td>0.150943</td>\n",
       "      <td>572399</td>\n",
       "      <td>MHZ</td>\n",
       "    </tr>\n",
       "    <tr>\n",
       "      <th>27</th>\n",
       "      <td>xa.s12.00.mhz.1971-10-18HR00_evid00043.mseed</td>\n",
       "      <td>1971-10-18T00:00:00.417000Z</td>\n",
       "      <td>1971-10-19T00:00:00.115113Z</td>\n",
       "      <td>6.625</td>\n",
       "      <td>0.150943</td>\n",
       "      <td>572399</td>\n",
       "      <td>MHZ</td>\n",
       "    </tr>\n",
       "    <tr>\n",
       "      <th>28</th>\n",
       "      <td>xa.s12.00.mhz.1971-10-20HR00_evid00044.mseed</td>\n",
       "      <td>1971-10-20T00:00:00.425000Z</td>\n",
       "      <td>1971-10-21T00:00:00.123113Z</td>\n",
       "      <td>6.625</td>\n",
       "      <td>0.150943</td>\n",
       "      <td>572399</td>\n",
       "      <td>MHZ</td>\n",
       "    </tr>\n",
       "    <tr>\n",
       "      <th>29</th>\n",
       "      <td>xa.s12.00.mhz.1971-10-31HR00_evid00045.mseed</td>\n",
       "      <td>1971-10-31T00:00:00.420000Z</td>\n",
       "      <td>1971-11-01T00:00:02.986038Z</td>\n",
       "      <td>6.625</td>\n",
       "      <td>0.150943</td>\n",
       "      <td>572418</td>\n",
       "      <td>MHZ</td>\n",
       "    </tr>\n",
       "    <tr>\n",
       "      <th>30</th>\n",
       "      <td>xa.s12.00.mhz.1971-11-14HR00_evid00046.mseed</td>\n",
       "      <td>1971-11-14T00:00:00.602000Z</td>\n",
       "      <td>1971-11-15T00:00:00.300113Z</td>\n",
       "      <td>6.625</td>\n",
       "      <td>0.150943</td>\n",
       "      <td>572399</td>\n",
       "      <td>MHZ</td>\n",
       "    </tr>\n",
       "    <tr>\n",
       "      <th>31</th>\n",
       "      <td>xa.s12.00.mhz.1972-01-04HR00_evid00049.mseed</td>\n",
       "      <td>1972-01-04T00:00:00.117000Z</td>\n",
       "      <td>1972-01-05T00:00:02.683038Z</td>\n",
       "      <td>6.625</td>\n",
       "      <td>0.150943</td>\n",
       "      <td>572418</td>\n",
       "      <td>MHZ</td>\n",
       "    </tr>\n",
       "    <tr>\n",
       "      <th>32</th>\n",
       "      <td>xa.s12.00.mhz.1972-03-12HR00_evid00052.mseed</td>\n",
       "      <td>1972-03-12T00:00:00.417000Z</td>\n",
       "      <td>1972-03-13T00:00:00.115113Z</td>\n",
       "      <td>6.625</td>\n",
       "      <td>0.150943</td>\n",
       "      <td>572399</td>\n",
       "      <td>MHZ</td>\n",
       "    </tr>\n",
       "    <tr>\n",
       "      <th>33</th>\n",
       "      <td>xa.s12.00.mhz.1972-05-11HR00_evid00055.mseed</td>\n",
       "      <td>1972-05-11T00:00:00.576000Z</td>\n",
       "      <td>1972-05-12T00:00:00.274113Z</td>\n",
       "      <td>6.625</td>\n",
       "      <td>0.150943</td>\n",
       "      <td>572399</td>\n",
       "      <td>MHZ</td>\n",
       "    </tr>\n",
       "    <tr>\n",
       "      <th>34</th>\n",
       "      <td>xa.s12.00.mhz.1972-06-16HR00_evid00060.mseed</td>\n",
       "      <td>1972-06-16T00:00:00.116000Z</td>\n",
       "      <td>1972-06-16T23:59:59.814113Z</td>\n",
       "      <td>6.625</td>\n",
       "      <td>0.150943</td>\n",
       "      <td>572399</td>\n",
       "      <td>MHZ</td>\n",
       "    </tr>\n",
       "    <tr>\n",
       "      <th>35</th>\n",
       "      <td>xa.s12.00.mhz.1972-07-17HR00_evid00067.mseed</td>\n",
       "      <td>1972-07-17T00:00:00.184000Z</td>\n",
       "      <td>1972-07-17T23:59:59.882113Z</td>\n",
       "      <td>6.625</td>\n",
       "      <td>0.150943</td>\n",
       "      <td>572399</td>\n",
       "      <td>MHZ</td>\n",
       "    </tr>\n",
       "    <tr>\n",
       "      <th>36</th>\n",
       "      <td>xa.s12.00.mhz.1972-07-17HR00_evid00068.mseed</td>\n",
       "      <td>1972-07-17T00:00:00.184000Z</td>\n",
       "      <td>1972-07-17T23:59:59.882113Z</td>\n",
       "      <td>6.625</td>\n",
       "      <td>0.150943</td>\n",
       "      <td>572399</td>\n",
       "      <td>MHZ</td>\n",
       "    </tr>\n",
       "    <tr>\n",
       "      <th>37</th>\n",
       "      <td>xa.s12.00.mhz.1972-07-28HR00_evid00070.mseed</td>\n",
       "      <td>1972-07-28T00:00:00.136000Z</td>\n",
       "      <td>1972-07-29T00:00:02.702038Z</td>\n",
       "      <td>6.625</td>\n",
       "      <td>0.150943</td>\n",
       "      <td>572418</td>\n",
       "      <td>MHZ</td>\n",
       "    </tr>\n",
       "    <tr>\n",
       "      <th>38</th>\n",
       "      <td>xa.s12.00.mhz.1972-07-31HR00_evid00071.mseed</td>\n",
       "      <td>1972-07-31T00:00:00.622000Z</td>\n",
       "      <td>1972-08-01T00:00:02.735208Z</td>\n",
       "      <td>6.625</td>\n",
       "      <td>0.150943</td>\n",
       "      <td>572415</td>\n",
       "      <td>MHZ</td>\n",
       "    </tr>\n",
       "    <tr>\n",
       "      <th>39</th>\n",
       "      <td>xa.s12.00.mhz.1972-12-02HR00_evid00083.mseed</td>\n",
       "      <td>1972-12-02T00:00:00.439000Z</td>\n",
       "      <td>1972-12-03T00:00:00.137113Z</td>\n",
       "      <td>6.625</td>\n",
       "      <td>0.150943</td>\n",
       "      <td>572399</td>\n",
       "      <td>MHZ</td>\n",
       "    </tr>\n",
       "    <tr>\n",
       "      <th>40</th>\n",
       "      <td>xa.s12.00.mhz.1972-12-03HR00_evid00084.mseed</td>\n",
       "      <td>1972-12-03T00:00:00.552000Z</td>\n",
       "      <td>1972-12-04T00:00:00.250113Z</td>\n",
       "      <td>6.625</td>\n",
       "      <td>0.150943</td>\n",
       "      <td>572399</td>\n",
       "      <td>MHZ</td>\n",
       "    </tr>\n",
       "    <tr>\n",
       "      <th>41</th>\n",
       "      <td>xa.s12.00.mhz.1973-01-18HR00_evid00088.mseed</td>\n",
       "      <td>1973-01-18T00:00:00.662000Z</td>\n",
       "      <td>1973-01-19T00:00:02.775208Z</td>\n",
       "      <td>6.625</td>\n",
       "      <td>0.150943</td>\n",
       "      <td>572415</td>\n",
       "      <td>MHZ</td>\n",
       "    </tr>\n",
       "    <tr>\n",
       "      <th>42</th>\n",
       "      <td>xa.s12.00.mhz.1973-01-31HR00_evid00091.mseed</td>\n",
       "      <td>1973-01-31T00:00:00.595000Z</td>\n",
       "      <td>1973-01-31T23:59:59.689340Z</td>\n",
       "      <td>6.625</td>\n",
       "      <td>0.150943</td>\n",
       "      <td>572395</td>\n",
       "      <td>MHZ</td>\n",
       "    </tr>\n",
       "    <tr>\n",
       "      <th>43</th>\n",
       "      <td>xa.s12.00.mhz.1973-03-01HR00_evid00093.mseed</td>\n",
       "      <td>1973-03-01T00:00:00.345000Z</td>\n",
       "      <td>1973-03-02T00:00:00.043113Z</td>\n",
       "      <td>6.625</td>\n",
       "      <td>0.150943</td>\n",
       "      <td>572399</td>\n",
       "      <td>MHZ</td>\n",
       "    </tr>\n",
       "    <tr>\n",
       "      <th>44</th>\n",
       "      <td>xa.s12.00.mhz.1973-03-13HR00_evid00094.mseed</td>\n",
       "      <td>1973-03-13T00:00:00.472000Z</td>\n",
       "      <td>1973-03-13T14:21:20.019170Z</td>\n",
       "      <td>6.625</td>\n",
       "      <td>0.150943</td>\n",
       "      <td>342378</td>\n",
       "      <td>MHZ</td>\n",
       "    </tr>\n",
       "    <tr>\n",
       "      <th>45</th>\n",
       "      <td>xa.s12.00.mhz.1973-03-24HR00_evid00097.mseed</td>\n",
       "      <td>1973-03-24T00:00:00.606000Z</td>\n",
       "      <td>1973-03-24T23:59:39.775811Z</td>\n",
       "      <td>6.625</td>\n",
       "      <td>0.150943</td>\n",
       "      <td>572263</td>\n",
       "      <td>MHZ</td>\n",
       "    </tr>\n",
       "    <tr>\n",
       "      <th>46</th>\n",
       "      <td>xa.s12.00.mhz.1973-05-14HR00_evid00104.mseed</td>\n",
       "      <td>1973-05-14T00:00:00.397000Z</td>\n",
       "      <td>1973-05-15T00:00:02.510208Z</td>\n",
       "      <td>6.625</td>\n",
       "      <td>0.150943</td>\n",
       "      <td>572415</td>\n",
       "      <td>MHZ</td>\n",
       "    </tr>\n",
       "    <tr>\n",
       "      <th>47</th>\n",
       "      <td>xa.s12.00.mhz.1973-06-05HR00_evid00107.mseed</td>\n",
       "      <td>1973-06-05T00:00:00.300000Z</td>\n",
       "      <td>1973-06-05T23:59:59.394340Z</td>\n",
       "      <td>6.625</td>\n",
       "      <td>0.150943</td>\n",
       "      <td>572395</td>\n",
       "      <td>MHZ</td>\n",
       "    </tr>\n",
       "    <tr>\n",
       "      <th>48</th>\n",
       "      <td>xa.s12.00.mhz.1973-06-05HR00_evid00108.mseed</td>\n",
       "      <td>1973-06-05T00:00:00.300000Z</td>\n",
       "      <td>1973-06-05T23:59:59.394340Z</td>\n",
       "      <td>6.625</td>\n",
       "      <td>0.150943</td>\n",
       "      <td>572395</td>\n",
       "      <td>MHZ</td>\n",
       "    </tr>\n",
       "    <tr>\n",
       "      <th>49</th>\n",
       "      <td>xa.s12.00.mhz.1973-06-18HR00_evid00109.mseed</td>\n",
       "      <td>1973-06-18T00:00:00.132000Z</td>\n",
       "      <td>1973-06-19T00:00:02.698038Z</td>\n",
       "      <td>6.625</td>\n",
       "      <td>0.150943</td>\n",
       "      <td>572418</td>\n",
       "      <td>MHZ</td>\n",
       "    </tr>\n",
       "  </tbody>\n",
       "</table>\n",
       "</div>"
      ],
      "text/plain": [
       "                                 mseed_file_name                    starttime  \\\n",
       "0   xa.s12.00.mhz.1970-01-19HR00_evid00002.mseed  1970-01-19T00:00:00.665000Z   \n",
       "1   xa.s12.00.mhz.1970-03-25HR00_evid00003.mseed  1970-03-25T00:00:00.440000Z   \n",
       "2   xa.s12.00.mhz.1970-03-26HR00_evid00004.mseed  1970-03-26T00:00:00.565000Z   \n",
       "3   xa.s12.00.mhz.1970-04-25HR00_evid00006.mseed  1970-04-25T00:00:00.196000Z   \n",
       "4   xa.s12.00.mhz.1970-04-26HR00_evid00007.mseed  1970-04-26T00:00:00.660000Z   \n",
       "5   xa.s12.00.mhz.1970-06-15HR00_evid00008.mseed  1970-06-15T00:00:00.510000Z   \n",
       "6   xa.s12.00.mhz.1970-06-26HR00_evid00009.mseed  1970-06-26T00:00:00.116000Z   \n",
       "7   xa.s12.00.mhz.1970-07-20HR00_evid00010.mseed  1970-07-20T00:00:00.487000Z   \n",
       "8   xa.s12.00.mhz.1970-07-20HR00_evid00011.mseed  1970-07-20T00:00:00.487000Z   \n",
       "9   xa.s12.00.mhz.1970-09-26HR00_evid00013.mseed  1970-09-26T00:00:00.149000Z   \n",
       "10  xa.s12.00.mhz.1970-10-24HR00_evid00014.mseed  1970-10-24T00:00:00.504000Z   \n",
       "11  xa.s12.00.mhz.1970-11-12HR00_evid00015.mseed  1970-11-12T00:00:00.700000Z   \n",
       "12  xa.s12.00.mhz.1970-12-11HR00_evid00017.mseed  1970-12-11T00:00:00.326000Z   \n",
       "13  xa.s12.00.mhz.1970-12-27HR00_evid00019.mseed  1970-12-27T00:00:00.517000Z   \n",
       "14  xa.s12.00.mhz.1970-12-31HR00_evid00021.mseed  1970-12-31T00:00:00.339000Z   \n",
       "15  xa.s12.00.mhz.1971-01-15HR00_evid00022.mseed  1971-01-15T00:00:00.258000Z   \n",
       "16  xa.s12.00.mhz.1971-01-28HR00_evid00023.mseed  1971-01-28T00:00:00.234000Z   \n",
       "17  xa.s12.00.mhz.1971-01-29HR00_evid00024.mseed  1971-01-29T00:00:00.194000Z   \n",
       "18  xa.s12.00.mhz.1971-02-09HR00_evid00026.mseed  1971-02-09T00:00:00.179000Z   \n",
       "19  xa.s12.00.mhz.1971-03-25HR00_evid00028.mseed  1971-03-25T00:00:00.151000Z   \n",
       "20  xa.s12.00.mhz.1971-04-17HR00_evid00030.mseed  1971-04-17T00:00:00.387000Z   \n",
       "21  xa.s12.00.mhz.1971-05-12HR00_evid00031.mseed  1971-05-12T00:00:00.712000Z   \n",
       "22  xa.s12.00.mhz.1971-05-12HR00_evid00032.mseed  1971-05-12T00:00:00.712000Z   \n",
       "23  xa.s12.00.mhz.1971-05-13HR00_evid00033.mseed  1971-05-13T00:00:00.183000Z   \n",
       "24  xa.s12.00.mhz.1971-05-23HR00_evid00034.mseed  1971-05-23T00:00:00.502000Z   \n",
       "25  xa.s12.00.mhz.1971-06-12HR00_evid00035.mseed  1971-06-12T00:00:00.529000Z   \n",
       "26  xa.s12.00.mhz.1971-09-25HR00_evid00042.mseed  1971-09-25T00:00:00.576000Z   \n",
       "27  xa.s12.00.mhz.1971-10-18HR00_evid00043.mseed  1971-10-18T00:00:00.417000Z   \n",
       "28  xa.s12.00.mhz.1971-10-20HR00_evid00044.mseed  1971-10-20T00:00:00.425000Z   \n",
       "29  xa.s12.00.mhz.1971-10-31HR00_evid00045.mseed  1971-10-31T00:00:00.420000Z   \n",
       "30  xa.s12.00.mhz.1971-11-14HR00_evid00046.mseed  1971-11-14T00:00:00.602000Z   \n",
       "31  xa.s12.00.mhz.1972-01-04HR00_evid00049.mseed  1972-01-04T00:00:00.117000Z   \n",
       "32  xa.s12.00.mhz.1972-03-12HR00_evid00052.mseed  1972-03-12T00:00:00.417000Z   \n",
       "33  xa.s12.00.mhz.1972-05-11HR00_evid00055.mseed  1972-05-11T00:00:00.576000Z   \n",
       "34  xa.s12.00.mhz.1972-06-16HR00_evid00060.mseed  1972-06-16T00:00:00.116000Z   \n",
       "35  xa.s12.00.mhz.1972-07-17HR00_evid00067.mseed  1972-07-17T00:00:00.184000Z   \n",
       "36  xa.s12.00.mhz.1972-07-17HR00_evid00068.mseed  1972-07-17T00:00:00.184000Z   \n",
       "37  xa.s12.00.mhz.1972-07-28HR00_evid00070.mseed  1972-07-28T00:00:00.136000Z   \n",
       "38  xa.s12.00.mhz.1972-07-31HR00_evid00071.mseed  1972-07-31T00:00:00.622000Z   \n",
       "39  xa.s12.00.mhz.1972-12-02HR00_evid00083.mseed  1972-12-02T00:00:00.439000Z   \n",
       "40  xa.s12.00.mhz.1972-12-03HR00_evid00084.mseed  1972-12-03T00:00:00.552000Z   \n",
       "41  xa.s12.00.mhz.1973-01-18HR00_evid00088.mseed  1973-01-18T00:00:00.662000Z   \n",
       "42  xa.s12.00.mhz.1973-01-31HR00_evid00091.mseed  1973-01-31T00:00:00.595000Z   \n",
       "43  xa.s12.00.mhz.1973-03-01HR00_evid00093.mseed  1973-03-01T00:00:00.345000Z   \n",
       "44  xa.s12.00.mhz.1973-03-13HR00_evid00094.mseed  1973-03-13T00:00:00.472000Z   \n",
       "45  xa.s12.00.mhz.1973-03-24HR00_evid00097.mseed  1973-03-24T00:00:00.606000Z   \n",
       "46  xa.s12.00.mhz.1973-05-14HR00_evid00104.mseed  1973-05-14T00:00:00.397000Z   \n",
       "47  xa.s12.00.mhz.1973-06-05HR00_evid00107.mseed  1973-06-05T00:00:00.300000Z   \n",
       "48  xa.s12.00.mhz.1973-06-05HR00_evid00108.mseed  1973-06-05T00:00:00.300000Z   \n",
       "49  xa.s12.00.mhz.1973-06-18HR00_evid00109.mseed  1973-06-18T00:00:00.132000Z   \n",
       "\n",
       "                        endtime  sampling_rate     delta    npts channel  \n",
       "0   1970-01-20T00:00:02.778208Z          6.625  0.150943  572415     MHZ  \n",
       "1   1970-03-26T00:00:01.949434Z          6.625  0.150943  572411     MHZ  \n",
       "2   1970-03-27T00:00:02.074434Z          6.625  0.150943  572411     MHZ  \n",
       "3   1970-04-26T00:00:02.309208Z          6.625  0.150943  572415     MHZ  \n",
       "4   1970-04-27T00:00:02.169434Z          6.625  0.150943  572411     MHZ  \n",
       "5   1970-06-16T00:00:03.076038Z          6.625  0.150943  572418     MHZ  \n",
       "6   1970-06-27T00:00:03.436755Z          6.625  0.150943  572423     MHZ  \n",
       "7   1970-07-21T00:00:01.996434Z          6.625  0.150943  572411     MHZ  \n",
       "8   1970-07-21T00:00:01.996434Z          6.625  0.150943  572411     MHZ  \n",
       "9   1970-09-27T00:00:03.469755Z          6.625  0.150943  572423     MHZ  \n",
       "10  1970-10-25T00:00:03.371925Z          6.625  0.150943  572420     MHZ  \n",
       "11  1970-11-13T00:00:02.209434Z          6.625  0.150943  572411     MHZ  \n",
       "12  1970-12-12T00:00:02.439208Z          6.625  0.150943  572415     MHZ  \n",
       "13  1970-12-28T00:00:03.837755Z          6.625  0.150943  572423     MHZ  \n",
       "14  1971-01-01T00:00:01.848434Z          6.625  0.150943  572411     MHZ  \n",
       "15  1971-01-16T00:00:01.767434Z          6.625  0.150943  572411     MHZ  \n",
       "16  1971-01-29T00:00:03.554755Z          6.625  0.150943  572423     MHZ  \n",
       "17  1971-01-30T00:00:03.514755Z          6.625  0.150943  572423     MHZ  \n",
       "18  1971-02-10T00:00:01.688434Z          6.625  0.150943  572411     MHZ  \n",
       "19  1971-03-26T00:00:04.075528Z          6.625  0.150943  572427     MHZ  \n",
       "20  1971-04-18T00:00:02.953038Z          6.625  0.150943  572418     MHZ  \n",
       "21  1971-05-13T00:00:01.617660Z          6.625  0.150943  572407     MHZ  \n",
       "22  1971-05-13T00:00:01.617660Z          6.625  0.150943  572407     MHZ  \n",
       "23  1971-05-14T00:00:01.692434Z          6.625  0.150943  572411     MHZ  \n",
       "24  1971-05-24T00:00:03.822755Z          6.625  0.150943  572423     MHZ  \n",
       "25  1971-06-13T00:00:03.095038Z          6.625  0.150943  572418     MHZ  \n",
       "26  1971-09-26T00:00:00.274113Z          6.625  0.150943  572399     MHZ  \n",
       "27  1971-10-19T00:00:00.115113Z          6.625  0.150943  572399     MHZ  \n",
       "28  1971-10-21T00:00:00.123113Z          6.625  0.150943  572399     MHZ  \n",
       "29  1971-11-01T00:00:02.986038Z          6.625  0.150943  572418     MHZ  \n",
       "30  1971-11-15T00:00:00.300113Z          6.625  0.150943  572399     MHZ  \n",
       "31  1972-01-05T00:00:02.683038Z          6.625  0.150943  572418     MHZ  \n",
       "32  1972-03-13T00:00:00.115113Z          6.625  0.150943  572399     MHZ  \n",
       "33  1972-05-12T00:00:00.274113Z          6.625  0.150943  572399     MHZ  \n",
       "34  1972-06-16T23:59:59.814113Z          6.625  0.150943  572399     MHZ  \n",
       "35  1972-07-17T23:59:59.882113Z          6.625  0.150943  572399     MHZ  \n",
       "36  1972-07-17T23:59:59.882113Z          6.625  0.150943  572399     MHZ  \n",
       "37  1972-07-29T00:00:02.702038Z          6.625  0.150943  572418     MHZ  \n",
       "38  1972-08-01T00:00:02.735208Z          6.625  0.150943  572415     MHZ  \n",
       "39  1972-12-03T00:00:00.137113Z          6.625  0.150943  572399     MHZ  \n",
       "40  1972-12-04T00:00:00.250113Z          6.625  0.150943  572399     MHZ  \n",
       "41  1973-01-19T00:00:02.775208Z          6.625  0.150943  572415     MHZ  \n",
       "42  1973-01-31T23:59:59.689340Z          6.625  0.150943  572395     MHZ  \n",
       "43  1973-03-02T00:00:00.043113Z          6.625  0.150943  572399     MHZ  \n",
       "44  1973-03-13T14:21:20.019170Z          6.625  0.150943  342378     MHZ  \n",
       "45  1973-03-24T23:59:39.775811Z          6.625  0.150943  572263     MHZ  \n",
       "46  1973-05-15T00:00:02.510208Z          6.625  0.150943  572415     MHZ  \n",
       "47  1973-06-05T23:59:59.394340Z          6.625  0.150943  572395     MHZ  \n",
       "48  1973-06-05T23:59:59.394340Z          6.625  0.150943  572395     MHZ  \n",
       "49  1973-06-19T00:00:02.698038Z          6.625  0.150943  572418     MHZ  "
      ]
     },
     "execution_count": 136,
     "metadata": {},
     "output_type": "execute_result"
    }
   ],
   "source": [
    "mseed_all_files_info_dataframe.head(50)"
   ]
  },
  {
   "cell_type": "markdown",
   "metadata": {},
   "source": [
    "All data from the Mars have the same variation and sampling method. We tested if the data could be from different sources, different frequencies or scaling. But in the end we found out that the data is the same in all mseed files. "
   ]
  },
  {
   "cell_type": "markdown",
   "metadata": {},
   "source": [
    "Now, we will analyze if data from Mars have also the  same consistency "
   ]
  },
  {
   "cell_type": "code",
   "execution_count": 145,
   "metadata": {},
   "outputs": [],
   "source": [
    "cat_file = r'..\\data\\mars\\training\\catalogs\\Mars_InSight_training_catalog_final.csv'\n",
    "cat = pd.read_csv(cat_file)"
   ]
  },
  {
   "cell_type": "code",
   "execution_count": 146,
   "metadata": {},
   "outputs": [
    {
     "data": {
      "text/html": [
       "<div>\n",
       "<style scoped>\n",
       "    .dataframe tbody tr th:only-of-type {\n",
       "        vertical-align: middle;\n",
       "    }\n",
       "\n",
       "    .dataframe tbody tr th {\n",
       "        vertical-align: top;\n",
       "    }\n",
       "\n",
       "    .dataframe thead th {\n",
       "        text-align: right;\n",
       "    }\n",
       "</style>\n",
       "<table border=\"1\" class=\"dataframe\">\n",
       "  <thead>\n",
       "    <tr style=\"text-align: right;\">\n",
       "      <th></th>\n",
       "      <th>filename</th>\n",
       "      <th>time_abs(%Y-%m-%dT%H:%M:%S.%f)</th>\n",
       "      <th>time_rel(sec)</th>\n",
       "      <th>evid</th>\n",
       "    </tr>\n",
       "  </thead>\n",
       "  <tbody>\n",
       "    <tr>\n",
       "      <th>0</th>\n",
       "      <td>XB.ELYSE.02.BHV.2022-02-03HR08_evid0005.csv</td>\n",
       "      <td>2022-02-03T08:08:27.000000</td>\n",
       "      <td>507.0</td>\n",
       "      <td>evid0005</td>\n",
       "    </tr>\n",
       "    <tr>\n",
       "      <th>1</th>\n",
       "      <td>XB.ELYSE.02.BHV.2022-01-02HR04_evid0006.csv</td>\n",
       "      <td>2022-01-02T04:35:30.000000</td>\n",
       "      <td>2130.0</td>\n",
       "      <td>evid0006</td>\n",
       "    </tr>\n",
       "  </tbody>\n",
       "</table>\n",
       "</div>"
      ],
      "text/plain": [
       "                                      filename time_abs(%Y-%m-%dT%H:%M:%S.%f)  \\\n",
       "0  XB.ELYSE.02.BHV.2022-02-03HR08_evid0005.csv     2022-02-03T08:08:27.000000   \n",
       "1  XB.ELYSE.02.BHV.2022-01-02HR04_evid0006.csv     2022-01-02T04:35:30.000000   \n",
       "\n",
       "   time_rel(sec)      evid  \n",
       "0          507.0  evid0005  \n",
       "1         2130.0  evid0006  "
      ]
     },
     "execution_count": 146,
     "metadata": {},
     "output_type": "execute_result"
    }
   ],
   "source": [
    "cat"
   ]
  },
  {
   "cell_type": "code",
   "execution_count": 152,
   "metadata": {},
   "outputs": [],
   "source": [
    "mars_mseed_file_names = [file_name.replace(\".csv\", \".mseed\") for file_name in cat[\"filename\"].values]"
   ]
  },
  {
   "cell_type": "code",
   "execution_count": 171,
   "metadata": {},
   "outputs": [],
   "source": [
    "data_directory_mars_path = r\"..\\data\\mars\\training\\data\""
   ]
  },
  {
   "cell_type": "code",
   "execution_count": 180,
   "metadata": {},
   "outputs": [],
   "source": [
    "# Create an empty list to store the extracted data\n",
    "data = []\n",
    "\n",
    "# Iterate over the file names and extract the stats\n",
    "for file_name in mars_mseed_file_names:\n",
    "    mseed_full_path = os.path.join(data_directory_mars_path, file_name)\n",
    "    try:\n",
    "        stats = extract_stats(mseed_full_path)\n",
    "        data.append(stats)\n",
    "    except FileNotFoundError:\n",
    "        pass\n",
    "    \n",
    "\n",
    "# Create a pandas DataFrame from the extracted data\n",
    "mseed_mars_info_dataframe = pd.DataFrame(data)"
   ]
  },
  {
   "cell_type": "code",
   "execution_count": 183,
   "metadata": {},
   "outputs": [
    {
     "data": {
      "text/html": [
       "<div>\n",
       "<style scoped>\n",
       "    .dataframe tbody tr th:only-of-type {\n",
       "        vertical-align: middle;\n",
       "    }\n",
       "\n",
       "    .dataframe tbody tr th {\n",
       "        vertical-align: top;\n",
       "    }\n",
       "\n",
       "    .dataframe thead th {\n",
       "        text-align: right;\n",
       "    }\n",
       "</style>\n",
       "<table border=\"1\" class=\"dataframe\">\n",
       "  <thead>\n",
       "    <tr style=\"text-align: right;\">\n",
       "      <th></th>\n",
       "      <th>mseed_file_name</th>\n",
       "      <th>starttime</th>\n",
       "      <th>endtime</th>\n",
       "      <th>sampling_rate</th>\n",
       "      <th>delta</th>\n",
       "      <th>npts</th>\n",
       "      <th>channel</th>\n",
       "    </tr>\n",
       "  </thead>\n",
       "  <tbody>\n",
       "    <tr>\n",
       "      <th>0</th>\n",
       "      <td>XB.ELYSE.02.BHV.2022-02-03HR08_evid0005.mseed</td>\n",
       "      <td>2022-02-03T08:00:00.009000Z</td>\n",
       "      <td>2022-02-03T08:59:59.959000Z</td>\n",
       "      <td>20.0</td>\n",
       "      <td>0.05</td>\n",
       "      <td>72000</td>\n",
       "      <td>BHV</td>\n",
       "    </tr>\n",
       "    <tr>\n",
       "      <th>1</th>\n",
       "      <td>XB.ELYSE.02.BHV.2022-01-02HR04_evid0006.mseed</td>\n",
       "      <td>2022-01-02T04:00:00.025000Z</td>\n",
       "      <td>2022-01-02T04:59:59.975000Z</td>\n",
       "      <td>20.0</td>\n",
       "      <td>0.05</td>\n",
       "      <td>72000</td>\n",
       "      <td>BHV</td>\n",
       "    </tr>\n",
       "  </tbody>\n",
       "</table>\n",
       "</div>"
      ],
      "text/plain": [
       "                                 mseed_file_name                    starttime  \\\n",
       "0  XB.ELYSE.02.BHV.2022-02-03HR08_evid0005.mseed  2022-02-03T08:00:00.009000Z   \n",
       "1  XB.ELYSE.02.BHV.2022-01-02HR04_evid0006.mseed  2022-01-02T04:00:00.025000Z   \n",
       "\n",
       "                       endtime  sampling_rate  delta   npts channel  \n",
       "0  2022-02-03T08:59:59.959000Z           20.0   0.05  72000     BHV  \n",
       "1  2022-01-02T04:59:59.975000Z           20.0   0.05  72000     BHV  "
      ]
     },
     "execution_count": 183,
     "metadata": {},
     "output_type": "execute_result"
    }
   ],
   "source": [
    "mseed_mars_info_dataframe"
   ]
  },
  {
   "cell_type": "code",
   "execution_count": null,
   "metadata": {},
   "outputs": [],
   "source": []
  }
 ],
 "metadata": {
  "kernelspec": {
   "display_name": ".venv",
   "language": "python",
   "name": "python3"
  },
  "language_info": {
   "codemirror_mode": {
    "name": "ipython",
    "version": 3
   },
   "file_extension": ".py",
   "mimetype": "text/x-python",
   "name": "python",
   "nbconvert_exporter": "python",
   "pygments_lexer": "ipython3",
   "version": "3.12.2"
  }
 },
 "nbformat": 4,
 "nbformat_minor": 2
}
